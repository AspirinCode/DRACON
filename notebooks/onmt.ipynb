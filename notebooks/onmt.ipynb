{
 "cells": [
  {
   "cell_type": "code",
   "execution_count": 1,
   "metadata": {},
   "outputs": [],
   "source": [
    "from onmt.train_single import main as single_main\n",
    "from onmt.new_opts import Opts, PreprocessorOpts\n",
    "from onmt.preprocess import build_save_dataset, build_save_vocab\n",
    "import onmt.inputters as inputters"
   ]
  },
  {
   "cell_type": "code",
   "execution_count": null,
   "metadata": {},
   "outputs": [],
   "source": [
    "def separate_data(data_path, name_to_save, mode):\n",
    "    lines = open(data_path).read().split('\\n')\n",
    "    with open(name_to_save + \"-\" + mode + \".txt\", \"w\") as f1, open(name_to_save + \"-\" + mode + \".txt\", \"w\") as f2:\n",
    "    for line in lines[3: min(num_samples, len(lines) - 1)]:\n",
    "        input_text, target_text, *c = line.split('\\t')\n",
    "        input_text,_ = input_text.split('>')\n",
    "        input_text = input_text.split()\n",
    "        target_text = target_text.split()\n",
    "        f1.write(\" \".join(input_text) + \" \\n\")\n",
    "        f2.write(\" \".join(target_text) + \"\\n\")\n",
    "    \n",
    "    "
   ]
  },
  {
   "cell_type": "code",
   "execution_count": null,
   "metadata": {},
   "outputs": [],
   "source": [
    "data_path = \"./organic-chemistry-reaction-prediction-using-NMT/data/US_patents_1976-Sep2016_1product_reactions_train.csv\"\n",
    "name_to_save = \"USP\"\n",
    "mode = \"train\"\n",
    "separate_data(data_path, name_to_save, mode)"
   ]
  },
  {
   "cell_type": "code",
   "execution_count": null,
   "metadata": {},
   "outputs": [],
   "source": [
    "data_path = \"./organic-chemistry-reaction-prediction-using-NMT/data/US_patents_1976-Sep2016_1product_reactions_valid.csv\"\n",
    "name_to_save = \"USP\"\n",
    "mode = \"valid\"\n",
    "separate_data(data_path, name_to_save, mode)"
   ]
  },
  {
   "cell_type": "code",
   "execution_count": 4,
   "metadata": {},
   "outputs": [],
   "source": [
    "opt = PreprocessorOpts(train_src=\"chemical_reaction_src-train.txt\", \n",
    "                      train_tgt=\"chemical_reaction_tgt-train.txt\", \n",
    "                      valid_src=\"chemical_reaction_src-valid.txt\",\n",
    "                      valid_tgt=\"chemical_reaction_tgt-valid.txt\",\n",
    "                      save_data=\"USP\")\n",
    "src_nfeats = inputters.get_num_features(\n",
    "    opt.data_type, opt.train_src, 'src')\n",
    "tgt_nfeats = inputters.get_num_features(\n",
    "    opt.data_type, opt.train_tgt, 'tgt')\n",
    "fields = inputters.get_fields(opt.data_type, src_nfeats, tgt_nfeats)\n",
    "train_dataset_files = build_save_dataset('train', fields, opt)\n",
    "build_save_dataset('valid', fields, opt)\n",
    "build_save_vocab(train_dataset_files, fields, opt)"
   ]
  },
  {
   "cell_type": "code",
   "execution_count": null,
   "metadata": {},
   "outputs": [
    {
     "name": "stderr",
     "output_type": "stream",
     "text": [
      "[2018-11-14 21:20:54,340 INFO] Loading train dataset from USP.train.0.pt, number of examples: 189902\n",
      "[2018-11-14 21:20:54,350 INFO]  * vocabulary size. source = 178; target = 101\n",
      "[2018-11-14 21:20:54,353 INFO] Building model...\n",
      "[2018-11-14 21:20:54,550 INFO] NMTModel(\n",
      "  (encoder): RNNEncoder(\n",
      "    (embeddings): Embeddings(\n",
      "      (make_embedding): Sequential(\n",
      "        (emb_luts): Elementwise(\n",
      "          (0): Embedding(178, 500, padding_idx=1)\n",
      "        )\n",
      "      )\n",
      "    )\n",
      "    (rnn): LSTM(500, 500, num_layers=2, dropout=0.3)\n",
      "  )\n",
      "  (decoder): InputFeedRNNDecoder(\n",
      "    (embeddings): Embeddings(\n",
      "      (make_embedding): Sequential(\n",
      "        (emb_luts): Elementwise(\n",
      "          (0): Embedding(101, 500, padding_idx=1)\n",
      "        )\n",
      "      )\n",
      "    )\n",
      "    (dropout): Dropout(p=0.3)\n",
      "    (rnn): StackedLSTM(\n",
      "      (dropout): Dropout(p=0.3)\n",
      "      (layers): ModuleList(\n",
      "        (0): LSTMCell(1000, 500)\n",
      "        (1): LSTMCell(500, 500)\n",
      "      )\n",
      "    )\n",
      "    (attn): GlobalAttention(\n",
      "      (linear_in): Linear(in_features=500, out_features=500, bias=False)\n",
      "      (linear_out): Linear(in_features=1000, out_features=500, bias=False)\n",
      "    )\n",
      "  )\n",
      "  (generator): Sequential(\n",
      "    (0): Linear(in_features=500, out_features=101, bias=True)\n",
      "    (1): LogSoftmax()\n",
      "  )\n",
      ")\n",
      "[2018-11-14 21:20:54,552 INFO] encoder: 4097000\n",
      "[2018-11-14 21:20:54,554 INFO] decoder: 5859101\n",
      "[2018-11-14 21:20:54,557 INFO] * number of parameters: 9956101\n",
      "[2018-11-14 21:20:54,559 INFO] Start training...\n",
      "[2018-11-14 21:20:55,892 INFO] Loading train dataset from USP.train.0.pt, number of examples: 189902\n",
      "[2018-11-14 21:24:04,606 INFO] Step 50/100000; acc:  10.89; ppl: 78584.93; xent: 11.27; lr: 1.00000; 600/592 tok/s;    189 sec\n",
      "[2018-11-14 21:26:59,128 INFO] Step 100/100000; acc:  23.66; ppl: 41.05; xent: 3.71; lr: 1.00000; 699/635 tok/s;    363 sec\n",
      "[2018-11-14 21:29:53,844 INFO] Step 150/100000; acc:  30.62; ppl: 31.09; xent: 3.44; lr: 1.00000; 584/549 tok/s;    538 sec\n",
      "[2018-11-14 21:33:03,633 INFO] Step 200/100000; acc:  40.45; ppl:  9.36; xent: 2.24; lr: 1.00000; 793/665 tok/s;    728 sec\n",
      "[2018-11-14 21:35:50,819 INFO] Step 250/100000; acc:  40.45; ppl: 10.31; xent: 2.33; lr: 1.00000; 689/691 tok/s;    895 sec\n",
      "[2018-11-14 21:38:28,382 INFO] Step 300/100000; acc:  44.88; ppl:  9.98; xent: 2.30; lr: 1.00000; 690/692 tok/s;   1052 sec\n",
      "[2018-11-14 21:41:14,521 INFO] Step 350/100000; acc:  49.91; ppl:  5.33; xent: 1.67; lr: 1.00000; 761/587 tok/s;   1219 sec\n",
      "[2018-11-14 21:43:54,336 INFO] Step 400/100000; acc:  50.52; ppl:  5.14; xent: 1.64; lr: 1.00000; 507/527 tok/s;   1378 sec\n",
      "[2018-11-14 21:46:30,475 INFO] Step 450/100000; acc:  56.66; ppl:  4.31; xent: 1.46; lr: 1.00000; 711/627 tok/s;   1535 sec\n",
      "[2018-11-14 21:49:21,561 INFO] Step 500/100000; acc:  52.53; ppl:  4.84; xent: 1.58; lr: 1.00000; 626/654 tok/s;   1706 sec\n",
      "[2018-11-14 21:52:04,170 INFO] Step 550/100000; acc:  59.06; ppl:  4.10; xent: 1.41; lr: 1.00000; 645/580 tok/s;   1868 sec\n",
      "[2018-11-14 22:00:17,455 INFO] Step 600/100000; acc:  57.01; ppl:  3.94; xent: 1.37; lr: 1.00000; 656/557 tok/s;   2362 sec\n",
      "[2018-11-14 22:03:06,591 INFO] Step 650/100000; acc:  56.43; ppl:  3.55; xent: 1.27; lr: 1.00000; 754/601 tok/s;   2531 sec\n",
      "[2018-11-14 22:06:05,456 INFO] Step 700/100000; acc:  66.08; ppl:  3.12; xent: 1.14; lr: 1.00000; 571/529 tok/s;   2710 sec\n",
      "[2018-11-14 22:08:47,195 INFO] Step 750/100000; acc:  65.42; ppl:  3.35; xent: 1.21; lr: 1.00000; 666/683 tok/s;   2871 sec\n",
      "[2018-11-14 22:11:52,830 INFO] Step 800/100000; acc:  62.06; ppl:  3.72; xent: 1.31; lr: 1.00000; 620/491 tok/s;   3057 sec\n",
      "[2018-11-14 22:14:42,736 INFO] Step 850/100000; acc:  48.14; ppl:  5.27; xent: 1.66; lr: 1.00000; 309/383 tok/s;   3227 sec\n",
      "[2018-11-14 22:17:35,543 INFO] Step 900/100000; acc:  65.52; ppl:  2.97; xent: 1.09; lr: 1.00000; 624/592 tok/s;   3400 sec\n",
      "[2018-11-14 22:20:22,779 INFO] Step 950/100000; acc:  67.34; ppl:  2.89; xent: 1.06; lr: 1.00000; 665/652 tok/s;   3567 sec\n",
      "[2018-11-14 22:23:09,194 INFO] Step 1000/100000; acc:  65.91; ppl:  3.21; xent: 1.17; lr: 1.00000; 748/649 tok/s;   3733 sec\n",
      "[2018-11-14 22:25:52,576 INFO] Step 1050/100000; acc:  65.27; ppl:  3.14; xent: 1.14; lr: 1.00000; 772/757 tok/s;   3897 sec\n",
      "[2018-11-14 22:28:27,894 INFO] Step 1100/100000; acc:  66.30; ppl:  2.97; xent: 1.09; lr: 1.00000; 841/619 tok/s;   4052 sec\n",
      "[2018-11-14 22:31:01,755 INFO] Step 1150/100000; acc:  67.20; ppl:  2.88; xent: 1.06; lr: 1.00000; 735/721 tok/s;   4206 sec\n",
      "[2018-11-14 22:33:45,798 INFO] Step 1200/100000; acc:  61.70; ppl:  3.16; xent: 1.15; lr: 1.00000; 722/735 tok/s;   4370 sec\n",
      "[2018-11-14 22:36:24,444 INFO] Step 1250/100000; acc:  65.63; ppl:  3.05; xent: 1.12; lr: 1.00000; 647/602 tok/s;   4529 sec\n",
      "[2018-11-14 22:38:59,484 INFO] Step 1300/100000; acc:  65.68; ppl:  3.01; xent: 1.10; lr: 1.00000; 841/737 tok/s;   4684 sec\n",
      "[2018-11-14 22:41:40,636 INFO] Step 1350/100000; acc:  65.21; ppl:  2.91; xent: 1.07; lr: 1.00000; 661/530 tok/s;   4845 sec\n",
      "[2018-11-14 23:27:46,869 INFO] Step 1400/100000; acc:  68.25; ppl:  2.69; xent: 0.99; lr: 1.00000; 674/567 tok/s;   7611 sec\n",
      "[2018-11-14 23:30:42,138 INFO] Step 1450/100000; acc:  65.77; ppl:  3.14; xent: 1.14; lr: 1.00000; 618/552 tok/s;   7786 sec\n",
      "[2018-11-14 23:33:46,255 INFO] Step 1500/100000; acc:  69.50; ppl:  2.66; xent: 0.98; lr: 1.00000; 519/404 tok/s;   7970 sec\n",
      "[2018-11-14 23:36:57,379 INFO] Step 1550/100000; acc:  67.35; ppl:  2.83; xent: 1.04; lr: 1.00000; 524/478 tok/s;   8161 sec\n",
      "[2018-11-14 23:40:28,500 INFO] Step 1600/100000; acc:  69.40; ppl:  2.85; xent: 1.05; lr: 1.00000; 523/512 tok/s;   8373 sec\n",
      "[2018-11-14 23:43:39,818 INFO] Step 1650/100000; acc:  68.07; ppl:  2.81; xent: 1.03; lr: 1.00000; 646/613 tok/s;   8564 sec\n"
     ]
    }
   ],
   "source": [
    "opt = Opts(data=\"USP\", save_model=\"demo_model\")\n",
    "single_main(opt, -1)"
   ]
  },
  {
   "cell_type": "code",
   "execution_count": null,
   "metadata": {},
   "outputs": [],
   "source": []
  }
 ],
 "metadata": {
  "kernelspec": {
   "display_name": "Python 3",
   "language": "python",
   "name": "python3"
  },
  "language_info": {
   "codemirror_mode": {
    "name": "ipython",
    "version": 3
   },
   "file_extension": ".py",
   "mimetype": "text/x-python",
   "name": "python",
   "nbconvert_exporter": "python",
   "pygments_lexer": "ipython3",
   "version": "3.6.6"
  }
 },
 "nbformat": 4,
 "nbformat_minor": 2
}
