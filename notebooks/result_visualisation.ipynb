{
 "cells": [
  {
   "cell_type": "code",
   "execution_count": 1,
   "metadata": {},
   "outputs": [],
   "source": [
    "import sys\n",
    "sys.path.append('..')"
   ]
  },
  {
   "cell_type": "code",
   "execution_count": 2,
   "metadata": {},
   "outputs": [
    {
     "name": "stderr",
     "output_type": "stream",
     "text": [
      "RDKit WARNING: [22:42:37] Enabling RDKit 2019.09.3 jupyter extensions\n"
     ]
    }
   ],
   "source": [
    "import torch\n",
    "import pickle\n",
    "import yaml\n",
    "import seaborn as sn\n",
    "import pandas as pd\n",
    "import matplotlib.pyplot as plt\n",
    "import numpy as np\n",
    "from torch.utils.data.dataloader import DataLoader\n",
    "from reaction_predictors.graph_model.models import RGCNNTrClassifier\n",
    "from utils.graph_utils import get_bonds, get_nodes\n",
    "from utils.torch_dataset import Dataset, graph_collate\n",
    "from utils.draw_utils import draw_gt_reaction, get_react_prouct, get_molecule_svg, draw_molecule\n",
    "from reaction_predictors.graph_model.model_utils import train_epoch, evaluate, test\n",
    "from collections import namedtuple"
   ]
  },
  {
   "cell_type": "code",
   "execution_count": 3,
   "metadata": {},
   "outputs": [],
   "source": [
    "import pickle\n",
    "from rdkit.Chem.Draw import IPythonConsole\n",
    "from IPython.display import SVG, Image\n",
    "from rdkit.Chem import rdDepictor\n",
    "IPythonConsole.molSize = (400,400)"
   ]
  },
  {
   "cell_type": "code",
   "execution_count": 4,
   "metadata": {},
   "outputs": [],
   "source": [
    "def prune_dataset_by_length(dataset, max_len):\n",
    "    new_dataset = {}\n",
    "    for idx in dataset:\n",
    "        r_mask = dataset[idx]['reactants']['mask']\n",
    "        r_mask = r_mask[r_mask > 0]\n",
    "        if len(dataset[idx]['target_main_product']) <= max_len and len(np.unique(r_mask)) == len(r_mask):\n",
    "            new_dataset[idx] = dataset[idx]\n",
    "    return new_dataset"
   ]
  },
  {
   "cell_type": "code",
   "execution_count": 5,
   "metadata": {},
   "outputs": [],
   "source": [
    "def convert(dictionary):\n",
    "    for key, value in dictionary.items():\n",
    "        if isinstance(value, dict):\n",
    "            dictionary[key] = convert(value)\n",
    "    return namedtuple('GenericDict', dictionary.keys())(**dictionary)"
   ]
  },
  {
   "cell_type": "code",
   "execution_count": 6,
   "metadata": {},
   "outputs": [],
   "source": [
    "with open('../scripts/graph_models/MP_EGTBF.yml', 'r') as ymlfile:\n",
    "    config = yaml.load(ymlfile, Loader=yaml.FullLoader)"
   ]
  },
  {
   "cell_type": "code",
   "execution_count": 7,
   "metadata": {},
   "outputs": [],
   "source": [
    "device = 'cuda:1'\n",
    "model_cfg = convert(config[\"model\"])\n",
    "data_cfg = convert(config[\"dataset\"])\n",
    "train_cfg = convert(config[\"train\"])\n",
    "paths = convert(config[\"paths\"])"
   ]
  },
  {
   "cell_type": "code",
   "execution_count": 8,
   "metadata": {},
   "outputs": [],
   "source": [
    "meta = pickle.load(open(paths.dataset_path + 'meta.pkl', 'rb'))\n",
    "\n",
    "node2label = get_nodes(meta['node'], n_molecule_level=data_cfg.n_molecule_level,\n",
    "                       n_reaction_level=data_cfg.n_reaction_level)\n",
    "bond2label = get_bonds(meta['type'], n_molecule_level=data_cfg.n_molecule_level,\n",
    "                       n_reaction_level=data_cfg.n_reaction_level,\n",
    "                       self_bond=data_cfg.self_bond)"
   ]
  },
  {
   "cell_type": "code",
   "execution_count": 9,
   "metadata": {},
   "outputs": [],
   "source": [
    "num_rels = len(bond2label)\n",
    "pad_length = data_cfg.max_num_atoms + 15 * data_cfg.n_molecule_level + \\\n",
    "             data_cfg.n_molecule_level * data_cfg.n_reaction_level\n",
    "num_nodes = pad_length"
   ]
  },
  {
   "cell_type": "code",
   "execution_count": 10,
   "metadata": {},
   "outputs": [
    {
     "name": "stderr",
     "output_type": "stream",
     "text": [
      "/home/socrates/miniconda3/envs/chem/lib/python3.7/site-packages/torch/serialization.py:593: SourceChangeWarning: source code of class 'reaction_predictors.graph_model.models.RGCNNTrClassifier' has changed. you can retrieve the original source code by accessing the object's source attribute or set `torch.nn.Module.dump_patches = True` and use the patch tool to revert the changes.\n",
      "  warnings.warn(msg, SourceChangeWarning)\n"
     ]
    }
   ],
   "source": [
    "model =torch.load(paths.save_path)\n",
    "model = model.to(device)"
   ]
  },
  {
   "cell_type": "code",
   "execution_count": 14,
   "metadata": {},
   "outputs": [],
   "source": [
    "fcn = model.fcns[0]"
   ]
  },
  {
   "cell_type": "code",
   "execution_count": 18,
   "metadata": {},
   "outputs": [
    {
     "name": "stdout",
     "output_type": "stream",
     "text": [
      "Parameter containing:\n",
      "tensor([[-0.0204,  0.0462,  0.0712, -0.0366, -0.0162,  0.0045, -0.0051,  0.0875,\n",
      "         -0.0184, -0.0161,  0.0093, -0.0274, -0.0224,  0.0135,  0.0323,  0.0456,\n",
      "         -0.0449, -0.0175,  0.0228,  0.0242, -0.0499,  0.0030,  0.0686, -0.0127,\n",
      "         -0.0702, -0.0118, -0.0030,  0.0036, -0.0027,  0.0008,  0.0017, -0.0123,\n",
      "         -0.1263, -0.0085, -0.0219,  0.0439, -0.0077,  0.0086, -0.0155, -0.0018,\n",
      "         -0.0045,  0.0255, -0.0040, -0.0177, -0.0798, -0.0441,  0.0138, -0.0049,\n",
      "         -0.0178, -0.0162,  0.0294,  0.0552, -0.0757,  0.0068, -0.0018,  0.0020,\n",
      "          0.0137,  0.0011, -0.0081, -0.0030,  0.0068, -0.0562, -0.0112,  0.0479,\n",
      "          0.0099,  0.0115, -0.0955,  0.0279,  0.0640, -0.2143,  0.0554, -0.0281,\n",
      "          0.0010, -0.0002, -0.0470,  0.0621, -0.0007,  0.0742,  0.0011, -0.0233,\n",
      "          0.0227, -0.0153,  0.0086,  0.0019, -0.0398, -0.0055, -0.0354,  0.0019,\n",
      "          0.0382, -0.0082,  0.0249, -0.0015, -0.0192,  0.0359, -0.0514, -0.0236,\n",
      "          0.0270, -0.0061, -0.0005, -0.0083, -0.0046,  0.0735,  0.1047, -0.0458,\n",
      "          0.0036, -0.0146,  0.0548,  0.0032,  0.0190, -0.0047, -0.0003,  0.0073,\n",
      "          0.0536, -0.0118, -0.0190, -0.0502,  0.0832, -0.0063,  0.0023,  0.0505,\n",
      "         -0.0166, -0.0027, -0.0020,  0.0043,  0.0051, -0.0057,  0.0614,  0.0015,\n",
      "          0.0262, -0.0660, -0.0255,  0.0640,  0.0220, -0.0394,  0.0851,  0.0103,\n",
      "          0.0056, -0.0262,  0.0136, -0.0127,  0.0807,  0.0595,  0.0868,  0.0025,\n",
      "         -0.0103,  0.0009,  0.0109,  0.0526,  0.0090,  0.0011,  0.0745,  0.0027]],\n",
      "       device='cuda:1', requires_grad=True)\n",
      "Parameter containing:\n",
      "tensor([-0.0086], device='cuda:1', requires_grad=True)\n"
     ]
    }
   ],
   "source": [
    "for i in fcn.layers[-1].parameters():\n",
    "    print(i)"
   ]
  },
  {
   "cell_type": "code",
   "execution_count": 11,
   "metadata": {},
   "outputs": [],
   "source": [
    "test_dataset = pickle.load(open(paths.dataset_path + 'test.pkl', 'rb'))\n",
    "test_dataset = prune_dataset_by_length(test_dataset, data_cfg.max_num_atoms)\n",
    "ts_dataset = Dataset(test_dataset, device=device, pad_length=pad_length,\n",
    "                         bond2label=bond2label, node2label=node2label, feature_idxs=data_cfg.feature_idxs,\n",
    "                         target_main_product=data_cfg.target_main_product, target_center=data_cfg.target_center,\n",
    "                         n_molecule_level=data_cfg.n_molecule_level, n_reaction_level=data_cfg.n_reaction_level)\n",
    "test_loader = DataLoader(ts_dataset, train_cfg.batch_size, drop_last=True, collate_fn=graph_collate)"
   ]
  },
  {
   "cell_type": "code",
   "execution_count": 12,
   "metadata": {},
   "outputs": [],
   "source": [
    "predictions = test(model, test_loader, drop_pad=False)"
   ]
  },
  {
   "cell_type": "code",
   "execution_count": 14,
   "metadata": {
    "scrolled": true
   },
   "outputs": [
    {
     "data": {
      "image/svg+xml": [
       "<svg baseProfile=\"full\" height=\"1026px\" version=\"1.1\" viewBox=\"0 0 657 1026\" width=\"657px\" xml:space=\"preserve\" xmlns=\"http://www.w3.org/2000/svg\" xmlns:rdkit=\"http://www.rdkit.org/xml\" xmlns:xlink=\"http://www.w3.org/1999/xlink\">\n",
       "<!-- END OF HEADER -->\n",
       "<rect height=\"1026\" style=\"opacity:1.0;fill:#FFFFFF;stroke:none\" width=\"657\" x=\"0\" y=\"0\"> </rect>\n",
       "<path d=\"M 220.355,665.927 L 299.166,620.499\" style=\"fill:none;fill-rule:evenodd;stroke:#B2FFB2;stroke-width:16px;stroke-linecap:butt;stroke-linejoin:miter;stroke-opacity:1\"/>\n",
       "<path d=\"M 299.166,620.499 L 377.904,666.036\" style=\"fill:none;fill-rule:evenodd;stroke:#B2FFB2;stroke-width:16px;stroke-linecap:butt;stroke-linejoin:miter;stroke-opacity:1\"/>\n",
       "<path d=\"M 299.166,620.499 L 299.239,529.535\" style=\"fill:none;fill-rule:evenodd;stroke:#B2FFB2;stroke-width:16px;stroke-linecap:butt;stroke-linejoin:miter;stroke-opacity:1\"/>\n",
       "<path d=\"M 299.239,529.535 L 378.05,484.108\" style=\"fill:none;fill-rule:evenodd;stroke:#B2FFB2;stroke-width:16px;stroke-linecap:butt;stroke-linejoin:miter;stroke-opacity:1\"/>\n",
       "<path d=\"M 299.239,529.535 L 220.5,483.999\" style=\"fill:none;fill-rule:evenodd;stroke:#B2FFB2;stroke-width:16px;stroke-linecap:butt;stroke-linejoin:miter;stroke-opacity:1\"/>\n",
       "<path d=\"M 378.05,484.108 L 456.788,529.663\" style=\"fill:none;fill-rule:evenodd;stroke:#B2FFB2;stroke-width:16px;stroke-linecap:butt;stroke-linejoin:miter;stroke-opacity:1\"/>\n",
       "<path d=\"M 378.05,484.108 L 378.123,393.144\" style=\"fill:none;fill-rule:evenodd;stroke:#B2FFB2;stroke-width:16px;stroke-linecap:butt;stroke-linejoin:miter;stroke-opacity:1\"/>\n",
       "<path d=\"M 456.788,529.663 L 535.6,484.235\" style=\"fill:none;fill-rule:evenodd;stroke:#B2FFB2;stroke-width:16px;stroke-linecap:butt;stroke-linejoin:miter;stroke-opacity:1\"/>\n",
       "<path d=\"M 535.6,484.235 L 535.672,393.271\" style=\"fill:none;fill-rule:evenodd;stroke:#B2FFB2;stroke-width:16px;stroke-linecap:butt;stroke-linejoin:miter;stroke-opacity:1\"/>\n",
       "<path d=\"M 535.672,393.271 L 456.934,347.734\" style=\"fill:none;fill-rule:evenodd;stroke:#B2FFB2;stroke-width:16px;stroke-linecap:butt;stroke-linejoin:miter;stroke-opacity:1\"/>\n",
       "<path d=\"M 456.934,347.734 L 378.123,393.144\" style=\"fill:none;fill-rule:evenodd;stroke:#B2FFB2;stroke-width:16px;stroke-linecap:butt;stroke-linejoin:miter;stroke-opacity:1\"/>\n",
       "<path d=\"M 220.5,483.999 L 141.689,529.408\" style=\"fill:none;fill-rule:evenodd;stroke:#FFB2B2;stroke-width:16px;stroke-linecap:butt;stroke-linejoin:miter;stroke-opacity:1\"/>\n",
       "<path d=\"M 220.5,483.999 L 220.573,393.035\" style=\"fill:none;fill-rule:evenodd;stroke:#B2FFB2;stroke-width:16px;stroke-linecap:butt;stroke-linejoin:miter;stroke-opacity:1\"/>\n",
       "<path d=\"M 268.999,842.608 L 347.738,888.145\" style=\"fill:none;fill-rule:evenodd;stroke:#FFB2B2;stroke-width:16px;stroke-linecap:butt;stroke-linejoin:miter;stroke-opacity:1\"/>\n",
       "<path d=\"M 268.999,842.608 L 190.188,888.017\" style=\"fill:none;fill-rule:evenodd;stroke:#B2FFB2;stroke-width:16px;stroke-linecap:butt;stroke-linejoin:miter;stroke-opacity:1\"/>\n",
       "<path d=\"M 347.738,888.145 L 426.549,842.717\" style=\"fill:none;fill-rule:evenodd;stroke:#FFB2B2;stroke-width:16px;stroke-linecap:butt;stroke-linejoin:miter;stroke-opacity:1\"/>\n",
       "<path d=\"M 426.549,842.717 L 505.288,888.272\" style=\"fill:none;fill-rule:evenodd;stroke:#B2FFB2;stroke-width:16px;stroke-linecap:butt;stroke-linejoin:miter;stroke-opacity:1\"/>\n",
       "<ellipse cx=\"220.355\" cy=\"665.927\" rx=\"36.3856\" ry=\"36.3856\" style=\"fill:#B2FFB2;fill-rule:evenodd;stroke:#B2FFB2;stroke-width:1px;stroke-linecap:butt;stroke-linejoin:miter;stroke-opacity:1\"/>\n",
       "<ellipse cx=\"299.166\" cy=\"620.499\" rx=\"36.3856\" ry=\"36.3856\" style=\"fill:#B2FFB2;fill-rule:evenodd;stroke:#B2FFB2;stroke-width:1px;stroke-linecap:butt;stroke-linejoin:miter;stroke-opacity:1\"/>\n",
       "<ellipse cx=\"377.904\" cy=\"666.036\" rx=\"36.3856\" ry=\"36.3856\" style=\"fill:#B2FFB2;fill-rule:evenodd;stroke:#B2FFB2;stroke-width:1px;stroke-linecap:butt;stroke-linejoin:miter;stroke-opacity:1\"/>\n",
       "<ellipse cx=\"299.239\" cy=\"529.535\" rx=\"36.3856\" ry=\"36.3856\" style=\"fill:#B2FFB2;fill-rule:evenodd;stroke:#B2FFB2;stroke-width:1px;stroke-linecap:butt;stroke-linejoin:miter;stroke-opacity:1\"/>\n",
       "<ellipse cx=\"378.05\" cy=\"484.108\" rx=\"36.3856\" ry=\"36.3856\" style=\"fill:#B2FFB2;fill-rule:evenodd;stroke:#B2FFB2;stroke-width:1px;stroke-linecap:butt;stroke-linejoin:miter;stroke-opacity:1\"/>\n",
       "<ellipse cx=\"456.788\" cy=\"529.663\" rx=\"36.3856\" ry=\"36.3856\" style=\"fill:#B2FFB2;fill-rule:evenodd;stroke:#B2FFB2;stroke-width:1px;stroke-linecap:butt;stroke-linejoin:miter;stroke-opacity:1\"/>\n",
       "<ellipse cx=\"535.6\" cy=\"484.235\" rx=\"36.3856\" ry=\"36.3856\" style=\"fill:#B2FFB2;fill-rule:evenodd;stroke:#B2FFB2;stroke-width:1px;stroke-linecap:butt;stroke-linejoin:miter;stroke-opacity:1\"/>\n",
       "<ellipse cx=\"535.672\" cy=\"393.271\" rx=\"36.3856\" ry=\"36.3856\" style=\"fill:#B2FFB2;fill-rule:evenodd;stroke:#B2FFB2;stroke-width:1px;stroke-linecap:butt;stroke-linejoin:miter;stroke-opacity:1\"/>\n",
       "<ellipse cx=\"456.934\" cy=\"347.734\" rx=\"36.3856\" ry=\"36.3856\" style=\"fill:#B2FFB2;fill-rule:evenodd;stroke:#B2FFB2;stroke-width:1px;stroke-linecap:butt;stroke-linejoin:miter;stroke-opacity:1\"/>\n",
       "<ellipse cx=\"378.123\" cy=\"393.144\" rx=\"36.3856\" ry=\"36.3856\" style=\"fill:#B2FFB2;fill-rule:evenodd;stroke:#B2FFB2;stroke-width:1px;stroke-linecap:butt;stroke-linejoin:miter;stroke-opacity:1\"/>\n",
       "<ellipse cx=\"220.5\" cy=\"483.999\" rx=\"36.3856\" ry=\"36.3856\" style=\"fill:#B2FFB2;fill-rule:evenodd;stroke:#B2FFB2;stroke-width:1px;stroke-linecap:butt;stroke-linejoin:miter;stroke-opacity:1\"/>\n",
       "<ellipse cx=\"141.689\" cy=\"529.408\" rx=\"36.3856\" ry=\"36.3856\" style=\"fill:#FFB2B2;fill-rule:evenodd;stroke:#FFB2B2;stroke-width:1px;stroke-linecap:butt;stroke-linejoin:miter;stroke-opacity:1\"/>\n",
       "<ellipse cx=\"220.573\" cy=\"393.035\" rx=\"36.3856\" ry=\"36.3856\" style=\"fill:#B2FFB2;fill-rule:evenodd;stroke:#B2FFB2;stroke-width:1px;stroke-linecap:butt;stroke-linejoin:miter;stroke-opacity:1\"/>\n",
       "<ellipse cx=\"268.999\" cy=\"842.608\" rx=\"36.3856\" ry=\"36.3856\" style=\"fill:#B2FFB2;fill-rule:evenodd;stroke:#B2FFB2;stroke-width:1px;stroke-linecap:butt;stroke-linejoin:miter;stroke-opacity:1\"/>\n",
       "<ellipse cx=\"347.738\" cy=\"888.145\" rx=\"36.3856\" ry=\"36.3856\" style=\"fill:#FFB2B2;fill-rule:evenodd;stroke:#FFB2B2;stroke-width:1px;stroke-linecap:butt;stroke-linejoin:miter;stroke-opacity:1\"/>\n",
       "<ellipse cx=\"426.549\" cy=\"842.717\" rx=\"36.3856\" ry=\"36.3856\" style=\"fill:#B2FFB2;fill-rule:evenodd;stroke:#B2FFB2;stroke-width:1px;stroke-linecap:butt;stroke-linejoin:miter;stroke-opacity:1\"/>\n",
       "<ellipse cx=\"505.288\" cy=\"888.272\" rx=\"36.3856\" ry=\"36.3856\" style=\"fill:#B2FFB2;fill-rule:evenodd;stroke:#B2FFB2;stroke-width:1px;stroke-linecap:butt;stroke-linejoin:miter;stroke-opacity:1\"/>\n",
       "<ellipse cx=\"190.188\" cy=\"888.017\" rx=\"36.3856\" ry=\"36.3856\" style=\"fill:#B2FFB2;fill-rule:evenodd;stroke:#B2FFB2;stroke-width:1px;stroke-linecap:butt;stroke-linejoin:miter;stroke-opacity:1\"/>\n",
       "<ellipse cx=\"120.328\" cy=\"228.692\" rx=\"36.3856\" ry=\"36.3856\" style=\"fill:#FFB2B2;fill-rule:evenodd;stroke:#FFB2B2;stroke-width:1px;stroke-linecap:butt;stroke-linejoin:miter;stroke-opacity:1\"/>\n",
       "<path class=\"bond-0\" d=\"M 220.355,665.927 L 299.166,620.499\" style=\"fill:none;fill-rule:evenodd;stroke:#000000;stroke-width:2px;stroke-linecap:butt;stroke-linejoin:miter;stroke-opacity:1\"/>\n",
       "<path class=\"bond-1\" d=\"M 299.166,620.499 L 377.904,666.036\" style=\"fill:none;fill-rule:evenodd;stroke:#000000;stroke-width:2px;stroke-linecap:butt;stroke-linejoin:miter;stroke-opacity:1\"/>\n",
       "<path class=\"bond-2\" d=\"M 299.166,620.499 L 299.239,529.535\" style=\"fill:none;fill-rule:evenodd;stroke:#000000;stroke-width:2px;stroke-linecap:butt;stroke-linejoin:miter;stroke-opacity:1\"/>\n",
       "<path class=\"bond-3\" d=\"M 299.239,529.535 L 378.05,484.108\" style=\"fill:none;fill-rule:evenodd;stroke:#000000;stroke-width:2px;stroke-linecap:butt;stroke-linejoin:miter;stroke-opacity:1\"/>\n",
       "<path class=\"bond-9\" d=\"M 299.239,529.535 L 220.5,483.999\" style=\"fill:none;fill-rule:evenodd;stroke:#000000;stroke-width:2px;stroke-linecap:butt;stroke-linejoin:miter;stroke-opacity:1\"/>\n",
       "<path class=\"bond-4\" d=\"M 378.05,484.108 L 456.788,529.663\" style=\"fill:none;fill-rule:evenodd;stroke:#000000;stroke-width:2px;stroke-linecap:butt;stroke-linejoin:miter;stroke-opacity:1\"/>\n",
       "<path class=\"bond-4\" d=\"M 398.06,476.768 L 453.177,508.657\" style=\"fill:none;fill-rule:evenodd;stroke:#000000;stroke-width:2px;stroke-linecap:butt;stroke-linejoin:miter;stroke-opacity:1\"/>\n",
       "<path class=\"bond-18\" d=\"M 378.05,484.108 L 378.083,442.376\" style=\"fill:none;fill-rule:evenodd;stroke:#000000;stroke-width:2px;stroke-linecap:butt;stroke-linejoin:miter;stroke-opacity:1\"/>\n",
       "<path class=\"bond-18\" d=\"M 378.083,442.376 L 378.117,400.644\" style=\"fill:none;fill-rule:evenodd;stroke:#0000FF;stroke-width:2px;stroke-linecap:butt;stroke-linejoin:miter;stroke-opacity:1\"/>\n",
       "<path class=\"bond-5\" d=\"M 456.788,529.663 L 535.6,484.235\" style=\"fill:none;fill-rule:evenodd;stroke:#000000;stroke-width:2px;stroke-linecap:butt;stroke-linejoin:miter;stroke-opacity:1\"/>\n",
       "<path class=\"bond-6\" d=\"M 535.6,484.235 L 535.672,393.271\" style=\"fill:none;fill-rule:evenodd;stroke:#000000;stroke-width:2px;stroke-linecap:butt;stroke-linejoin:miter;stroke-opacity:1\"/>\n",
       "<path class=\"bond-6\" d=\"M 519.237,470.577 L 519.288,406.903\" style=\"fill:none;fill-rule:evenodd;stroke:#000000;stroke-width:2px;stroke-linecap:butt;stroke-linejoin:miter;stroke-opacity:1\"/>\n",
       "<path class=\"bond-7\" d=\"M 535.672,393.271 L 456.934,347.734\" style=\"fill:none;fill-rule:evenodd;stroke:#000000;stroke-width:2px;stroke-linecap:butt;stroke-linejoin:miter;stroke-opacity:1\"/>\n",
       "<path class=\"bond-8\" d=\"M 456.934,347.734 L 420.779,368.566\" style=\"fill:none;fill-rule:evenodd;stroke:#000000;stroke-width:2px;stroke-linecap:butt;stroke-linejoin:miter;stroke-opacity:1\"/>\n",
       "<path class=\"bond-8\" d=\"M 420.779,368.566 L 384.623,389.398\" style=\"fill:none;fill-rule:evenodd;stroke:#0000FF;stroke-width:2px;stroke-linecap:butt;stroke-linejoin:miter;stroke-opacity:1\"/>\n",
       "<path class=\"bond-8\" d=\"M 454.262,368.171 L 428.953,382.753\" style=\"fill:none;fill-rule:evenodd;stroke:#000000;stroke-width:2px;stroke-linecap:butt;stroke-linejoin:miter;stroke-opacity:1\"/>\n",
       "<path class=\"bond-8\" d=\"M 428.953,382.753 L 403.644,397.336\" style=\"fill:none;fill-rule:evenodd;stroke:#0000FF;stroke-width:2px;stroke-linecap:butt;stroke-linejoin:miter;stroke-opacity:1\"/>\n",
       "<path class=\"bond-10\" d=\"M 220.5,483.999 L 188.254,502.578\" style=\"fill:none;fill-rule:evenodd;stroke:#000000;stroke-width:2px;stroke-linecap:butt;stroke-linejoin:miter;stroke-opacity:1\"/>\n",
       "<path class=\"bond-10\" d=\"M 188.254,502.578 L 156.007,521.158\" style=\"fill:none;fill-rule:evenodd;stroke:#0000FF;stroke-width:2px;stroke-linecap:butt;stroke-linejoin:miter;stroke-opacity:1\"/>\n",
       "<path class=\"bond-11\" d=\"M 228.687,484.005 L 228.72,442.273\" style=\"fill:none;fill-rule:evenodd;stroke:#000000;stroke-width:2px;stroke-linecap:butt;stroke-linejoin:miter;stroke-opacity:1\"/>\n",
       "<path class=\"bond-11\" d=\"M 228.72,442.273 L 228.754,400.541\" style=\"fill:none;fill-rule:evenodd;stroke:#CCCC00;stroke-width:2px;stroke-linecap:butt;stroke-linejoin:miter;stroke-opacity:1\"/>\n",
       "<path class=\"bond-11\" d=\"M 212.313,483.992 L 212.347,442.26\" style=\"fill:none;fill-rule:evenodd;stroke:#000000;stroke-width:2px;stroke-linecap:butt;stroke-linejoin:miter;stroke-opacity:1\"/>\n",
       "<path class=\"bond-11\" d=\"M 212.347,442.26 L 212.38,400.528\" style=\"fill:none;fill-rule:evenodd;stroke:#CCCC00;stroke-width:2px;stroke-linecap:butt;stroke-linejoin:miter;stroke-opacity:1\"/>\n",
       "<path class=\"bond-12\" d=\"M 268.999,842.608 L 301.884,861.627\" style=\"fill:none;fill-rule:evenodd;stroke:#000000;stroke-width:2px;stroke-linecap:butt;stroke-linejoin:miter;stroke-opacity:1\"/>\n",
       "<path class=\"bond-12\" d=\"M 301.884,861.627 L 334.769,880.645\" style=\"fill:none;fill-rule:evenodd;stroke:#0000FF;stroke-width:2px;stroke-linecap:butt;stroke-linejoin:miter;stroke-opacity:1\"/>\n",
       "<path class=\"bond-15\" d=\"M 268.999,842.608 L 190.188,888.017\" style=\"fill:none;fill-rule:evenodd;stroke:#000000;stroke-width:2px;stroke-linecap:butt;stroke-linejoin:miter;stroke-opacity:1\"/>\n",
       "<path class=\"bond-13\" d=\"M 360.739,880.651 L 393.644,861.684\" style=\"fill:none;fill-rule:evenodd;stroke:#0000FF;stroke-width:2px;stroke-linecap:butt;stroke-linejoin:miter;stroke-opacity:1\"/>\n",
       "<path class=\"bond-13\" d=\"M 393.644,861.684 L 426.549,842.717\" style=\"fill:none;fill-rule:evenodd;stroke:#000000;stroke-width:2px;stroke-linecap:butt;stroke-linejoin:miter;stroke-opacity:1\"/>\n",
       "<path class=\"bond-14\" d=\"M 426.549,842.717 L 505.288,888.272\" style=\"fill:none;fill-rule:evenodd;stroke:#000000;stroke-width:2px;stroke-linecap:butt;stroke-linejoin:miter;stroke-opacity:1\"/>\n",
       "<path class=\"bond-16\" d=\"M 120.328,236.879 L 162.307,236.879\" style=\"fill:none;fill-rule:evenodd;stroke:#000000;stroke-width:2px;stroke-linecap:butt;stroke-linejoin:miter;stroke-opacity:1\"/>\n",
       "<path class=\"bond-16\" d=\"M 162.307,236.879 L 204.287,236.879\" style=\"fill:none;fill-rule:evenodd;stroke:#FF0000;stroke-width:2px;stroke-linecap:butt;stroke-linejoin:miter;stroke-opacity:1\"/>\n",
       "<path class=\"bond-16\" d=\"M 120.328,220.505 L 162.307,220.505\" style=\"fill:none;fill-rule:evenodd;stroke:#000000;stroke-width:2px;stroke-linecap:butt;stroke-linejoin:miter;stroke-opacity:1\"/>\n",
       "<path class=\"bond-16\" d=\"M 162.307,220.505 L 204.287,220.505\" style=\"fill:none;fill-rule:evenodd;stroke:#FF0000;stroke-width:2px;stroke-linecap:butt;stroke-linejoin:miter;stroke-opacity:1\"/>\n",
       "<path class=\"bond-17\" d=\"M 393.22,137.728 L 431.949,137.728\" style=\"fill:none;fill-rule:evenodd;stroke:#000000;stroke-width:2px;stroke-linecap:butt;stroke-linejoin:miter;stroke-opacity:1\"/>\n",
       "<path class=\"bond-17\" d=\"M 431.949,137.728 L 470.678,137.728\" style=\"fill:none;fill-rule:evenodd;stroke:#FF0000;stroke-width:2px;stroke-linecap:butt;stroke-linejoin:miter;stroke-opacity:1\"/>\n",
       "<text style=\"font-size:15px;font-style:normal;font-weight:normal;fill-opacity:1;stroke:none;font-family:sans-serif;text-anchor:start;fill:#0000FF\" x=\"371.622\" y=\"400.644\"><tspan>N</tspan></text>\n",
       "<text style=\"font-size:15px;font-style:normal;font-weight:normal;fill-opacity:1;stroke:none;font-family:sans-serif;text-anchor:start;fill:#0000FF\" x=\"126.185\" y=\"537.658\"><tspan>H</tspan><tspan style=\"baseline-shift:sub;font-size:11.25px;\">2</tspan><tspan>N</tspan></text>\n",
       "<text style=\"font-size:15px;font-style:normal;font-weight:normal;fill-opacity:1;stroke:none;font-family:sans-serif;text-anchor:start;fill:#CCCC00\" x=\"214.567\" y=\"400.535\"><tspan>S</tspan></text>\n",
       "<text style=\"font-size:15px;font-style:normal;font-weight:normal;fill-opacity:1;stroke:none;font-family:sans-serif;text-anchor:start;fill:#0000FF\" x=\"334.737\" y=\"895.645\"><tspan>NH</tspan></text>\n",
       "<text style=\"font-size:15px;font-style:normal;font-weight:normal;fill-opacity:1;stroke:none;font-family:sans-serif;text-anchor:start;fill:#FF0000\" x=\"204.287\" y=\"236.192\"><tspan>O</tspan></text>\n",
       "<text style=\"font-size:15px;font-style:normal;font-weight:normal;fill-opacity:1;stroke:none;font-family:sans-serif;text-anchor:start;fill:#FF0000\" x=\"470.678\" y=\"145.228\"><tspan>OH</tspan></text>\n",
       "</svg>"
      ],
      "text/plain": [
       "<IPython.core.display.SVG object>"
      ]
     },
     "execution_count": 14,
     "metadata": {},
     "output_type": "execute_result"
    }
   ],
   "source": [
    "keys = list(test_dataset.keys())\n",
    "idx = 4\n",
    "data = test_dataset[keys[idx]]\n",
    "r_mol, p_mol = get_react_prouct(data['smarts'])\n",
    "rdDepictor.Compute2DCoords(r_mol)\n",
    "target_reactants = data['target_main_product'] + data['target_center']\n",
    "target_reactants[target_reactants == -1] = 0\n",
    "r = get_molecule_svg(r_mol, target=target_reactants, target_type='GT',\n",
    "                         gt_colors={1: (0.7, 1, 0.7), 2: (1, 0.7, 0.7)}, dpa=100)\n",
    "SVG(r)"
   ]
  },
  {
   "cell_type": "code",
   "execution_count": 17,
   "metadata": {},
   "outputs": [],
   "source": [
    "n_atoms = len(data['target_main_product'])\n",
    "mp = predictions[0]['predicted'][idx].astype(float)[:n_atoms]\n",
    "# c = predictions[1]['predicted'][idx].astype(float)[:n_atoms]\n",
    "# c[data['target_center'] < 0] = 0\n",
    "# tc = predictions[1]['target'][idx].astype(float)[:n_atoms]"
   ]
  },
  {
   "cell_type": "code",
   "execution_count": 20,
   "metadata": {
    "scrolled": true
   },
   "outputs": [
    {
     "data": {
      "image/svg+xml": [
       "<svg baseProfile=\"full\" height=\"1026px\" version=\"1.1\" viewBox=\"0 0 657 1026\" width=\"657px\" xml:space=\"preserve\" xmlns=\"http://www.w3.org/2000/svg\" xmlns:rdkit=\"http://www.rdkit.org/xml\" xmlns:xlink=\"http://www.w3.org/1999/xlink\">\n",
       "<!-- END OF HEADER -->\n",
       "<rect height=\"1026\" style=\"opacity:1.0;fill:#FFFFFF;stroke:none\" width=\"657\" x=\"0\" y=\"0\"> </rect>\n",
       "<path d=\"M 220.355,665.927 L 299.166,620.499\" style=\"fill:none;fill-rule:evenodd;stroke:#FF0000;stroke-width:16px;stroke-linecap:butt;stroke-linejoin:miter;stroke-opacity:1\"/>\n",
       "<path d=\"M 299.166,620.499 L 377.904,666.036\" style=\"fill:none;fill-rule:evenodd;stroke:#FF0000;stroke-width:16px;stroke-linecap:butt;stroke-linejoin:miter;stroke-opacity:1\"/>\n",
       "<path d=\"M 299.166,620.499 L 299.239,529.535\" style=\"fill:none;fill-rule:evenodd;stroke:#FF0000;stroke-width:16px;stroke-linecap:butt;stroke-linejoin:miter;stroke-opacity:1\"/>\n",
       "<path d=\"M 299.239,529.535 L 378.05,484.108\" style=\"fill:none;fill-rule:evenodd;stroke:#FF0000;stroke-width:16px;stroke-linecap:butt;stroke-linejoin:miter;stroke-opacity:1\"/>\n",
       "<path d=\"M 299.239,529.535 L 220.5,483.999\" style=\"fill:none;fill-rule:evenodd;stroke:#FF0000;stroke-width:16px;stroke-linecap:butt;stroke-linejoin:miter;stroke-opacity:1\"/>\n",
       "<path d=\"M 378.05,484.108 L 456.788,529.663\" style=\"fill:none;fill-rule:evenodd;stroke:#FF0000;stroke-width:16px;stroke-linecap:butt;stroke-linejoin:miter;stroke-opacity:1\"/>\n",
       "<path d=\"M 378.05,484.108 L 378.123,393.144\" style=\"fill:none;fill-rule:evenodd;stroke:#FF0000;stroke-width:16px;stroke-linecap:butt;stroke-linejoin:miter;stroke-opacity:1\"/>\n",
       "<path d=\"M 456.788,529.663 L 535.6,484.235\" style=\"fill:none;fill-rule:evenodd;stroke:#FF0000;stroke-width:16px;stroke-linecap:butt;stroke-linejoin:miter;stroke-opacity:1\"/>\n",
       "<path d=\"M 535.6,484.235 L 535.672,393.271\" style=\"fill:none;fill-rule:evenodd;stroke:#FF0000;stroke-width:16px;stroke-linecap:butt;stroke-linejoin:miter;stroke-opacity:1\"/>\n",
       "<path d=\"M 535.672,393.271 L 456.934,347.734\" style=\"fill:none;fill-rule:evenodd;stroke:#FF0000;stroke-width:16px;stroke-linecap:butt;stroke-linejoin:miter;stroke-opacity:1\"/>\n",
       "<path d=\"M 456.934,347.734 L 378.123,393.144\" style=\"fill:none;fill-rule:evenodd;stroke:#FF0000;stroke-width:16px;stroke-linecap:butt;stroke-linejoin:miter;stroke-opacity:1\"/>\n",
       "<path d=\"M 220.5,483.999 L 141.689,529.408\" style=\"fill:none;fill-rule:evenodd;stroke:#FF0000;stroke-width:16px;stroke-linecap:butt;stroke-linejoin:miter;stroke-opacity:1\"/>\n",
       "<path d=\"M 220.5,483.999 L 220.573,393.035\" style=\"fill:none;fill-rule:evenodd;stroke:#FF0000;stroke-width:16px;stroke-linecap:butt;stroke-linejoin:miter;stroke-opacity:1\"/>\n",
       "<path d=\"M 268.999,842.608 L 347.738,888.145\" style=\"fill:none;fill-rule:evenodd;stroke:#FF0000;stroke-width:16px;stroke-linecap:butt;stroke-linejoin:miter;stroke-opacity:1\"/>\n",
       "<path d=\"M 268.999,842.608 L 190.188,888.017\" style=\"fill:none;fill-rule:evenodd;stroke:#FF0000;stroke-width:16px;stroke-linecap:butt;stroke-linejoin:miter;stroke-opacity:1\"/>\n",
       "<path d=\"M 347.738,888.145 L 426.549,842.717\" style=\"fill:none;fill-rule:evenodd;stroke:#FF0000;stroke-width:16px;stroke-linecap:butt;stroke-linejoin:miter;stroke-opacity:1\"/>\n",
       "<path d=\"M 426.549,842.717 L 505.288,888.272\" style=\"fill:none;fill-rule:evenodd;stroke:#FF0000;stroke-width:16px;stroke-linecap:butt;stroke-linejoin:miter;stroke-opacity:1\"/>\n",
       "<path d=\"M 120.328,228.692 L 211.292,228.692\" style=\"fill:none;fill-rule:evenodd;stroke:#FF0000;stroke-width:16px;stroke-linecap:butt;stroke-linejoin:miter;stroke-opacity:1\"/>\n",
       "<path d=\"M 393.22,137.728 L 484.184,137.728\" style=\"fill:none;fill-rule:evenodd;stroke:#00FFFF;stroke-width:16px;stroke-linecap:butt;stroke-linejoin:miter;stroke-opacity:1\"/>\n",
       "<ellipse cx=\"220.355\" cy=\"665.927\" rx=\"36.3856\" ry=\"36.3856\" style=\"fill:#FF0000;fill-rule:evenodd;stroke:#FF0000;stroke-width:1px;stroke-linecap:butt;stroke-linejoin:miter;stroke-opacity:1\"/>\n",
       "<ellipse cx=\"299.166\" cy=\"620.499\" rx=\"36.3856\" ry=\"36.3856\" style=\"fill:#FF0000;fill-rule:evenodd;stroke:#FF0000;stroke-width:1px;stroke-linecap:butt;stroke-linejoin:miter;stroke-opacity:1\"/>\n",
       "<ellipse cx=\"377.904\" cy=\"666.036\" rx=\"36.3856\" ry=\"36.3856\" style=\"fill:#FF0000;fill-rule:evenodd;stroke:#FF0000;stroke-width:1px;stroke-linecap:butt;stroke-linejoin:miter;stroke-opacity:1\"/>\n",
       "<ellipse cx=\"299.239\" cy=\"529.535\" rx=\"36.3856\" ry=\"36.3856\" style=\"fill:#FF0000;fill-rule:evenodd;stroke:#FF0000;stroke-width:1px;stroke-linecap:butt;stroke-linejoin:miter;stroke-opacity:1\"/>\n",
       "<ellipse cx=\"378.05\" cy=\"484.108\" rx=\"36.3856\" ry=\"36.3856\" style=\"fill:#FF0000;fill-rule:evenodd;stroke:#FF0000;stroke-width:1px;stroke-linecap:butt;stroke-linejoin:miter;stroke-opacity:1\"/>\n",
       "<ellipse cx=\"456.788\" cy=\"529.663\" rx=\"36.3856\" ry=\"36.3856\" style=\"fill:#FF0000;fill-rule:evenodd;stroke:#FF0000;stroke-width:1px;stroke-linecap:butt;stroke-linejoin:miter;stroke-opacity:1\"/>\n",
       "<ellipse cx=\"535.6\" cy=\"484.235\" rx=\"36.3856\" ry=\"36.3856\" style=\"fill:#FF0000;fill-rule:evenodd;stroke:#FF0000;stroke-width:1px;stroke-linecap:butt;stroke-linejoin:miter;stroke-opacity:1\"/>\n",
       "<ellipse cx=\"535.672\" cy=\"393.271\" rx=\"36.3856\" ry=\"36.3856\" style=\"fill:#FF0000;fill-rule:evenodd;stroke:#FF0000;stroke-width:1px;stroke-linecap:butt;stroke-linejoin:miter;stroke-opacity:1\"/>\n",
       "<ellipse cx=\"456.934\" cy=\"347.734\" rx=\"36.3856\" ry=\"36.3856\" style=\"fill:#FF0000;fill-rule:evenodd;stroke:#FF0000;stroke-width:1px;stroke-linecap:butt;stroke-linejoin:miter;stroke-opacity:1\"/>\n",
       "<ellipse cx=\"378.123\" cy=\"393.144\" rx=\"36.3856\" ry=\"36.3856\" style=\"fill:#FF0000;fill-rule:evenodd;stroke:#FF0000;stroke-width:1px;stroke-linecap:butt;stroke-linejoin:miter;stroke-opacity:1\"/>\n",
       "<ellipse cx=\"220.5\" cy=\"483.999\" rx=\"36.3856\" ry=\"36.3856\" style=\"fill:#FF0000;fill-rule:evenodd;stroke:#FF0000;stroke-width:1px;stroke-linecap:butt;stroke-linejoin:miter;stroke-opacity:1\"/>\n",
       "<ellipse cx=\"141.689\" cy=\"529.408\" rx=\"36.3856\" ry=\"36.3856\" style=\"fill:#FF0000;fill-rule:evenodd;stroke:#FF0000;stroke-width:1px;stroke-linecap:butt;stroke-linejoin:miter;stroke-opacity:1\"/>\n",
       "<ellipse cx=\"220.573\" cy=\"393.035\" rx=\"36.3856\" ry=\"36.3856\" style=\"fill:#FF0000;fill-rule:evenodd;stroke:#FF0000;stroke-width:1px;stroke-linecap:butt;stroke-linejoin:miter;stroke-opacity:1\"/>\n",
       "<ellipse cx=\"268.999\" cy=\"842.608\" rx=\"36.3856\" ry=\"36.3856\" style=\"fill:#FF0000;fill-rule:evenodd;stroke:#FF0000;stroke-width:1px;stroke-linecap:butt;stroke-linejoin:miter;stroke-opacity:1\"/>\n",
       "<ellipse cx=\"347.738\" cy=\"888.145\" rx=\"36.3856\" ry=\"36.3856\" style=\"fill:#FF0000;fill-rule:evenodd;stroke:#FF0000;stroke-width:1px;stroke-linecap:butt;stroke-linejoin:miter;stroke-opacity:1\"/>\n",
       "<ellipse cx=\"426.549\" cy=\"842.717\" rx=\"36.3856\" ry=\"36.3856\" style=\"fill:#FF0000;fill-rule:evenodd;stroke:#FF0000;stroke-width:1px;stroke-linecap:butt;stroke-linejoin:miter;stroke-opacity:1\"/>\n",
       "<ellipse cx=\"505.288\" cy=\"888.272\" rx=\"36.3856\" ry=\"36.3856\" style=\"fill:#FF0000;fill-rule:evenodd;stroke:#FF0000;stroke-width:1px;stroke-linecap:butt;stroke-linejoin:miter;stroke-opacity:1\"/>\n",
       "<ellipse cx=\"190.188\" cy=\"888.017\" rx=\"36.3856\" ry=\"36.3856\" style=\"fill:#FF0000;fill-rule:evenodd;stroke:#FF0000;stroke-width:1px;stroke-linecap:butt;stroke-linejoin:miter;stroke-opacity:1\"/>\n",
       "<ellipse cx=\"120.328\" cy=\"228.692\" rx=\"36.3856\" ry=\"36.3856\" style=\"fill:#FF0000;fill-rule:evenodd;stroke:#FF0000;stroke-width:1px;stroke-linecap:butt;stroke-linejoin:miter;stroke-opacity:1\"/>\n",
       "<ellipse cx=\"211.292\" cy=\"228.692\" rx=\"36.3856\" ry=\"36.3856\" style=\"fill:#00FFFF;fill-rule:evenodd;stroke:#00FFFF;stroke-width:1px;stroke-linecap:butt;stroke-linejoin:miter;stroke-opacity:1\"/>\n",
       "<ellipse cx=\"393.22\" cy=\"137.728\" rx=\"36.3856\" ry=\"36.3856\" style=\"fill:#00FFFF;fill-rule:evenodd;stroke:#00FFFF;stroke-width:1px;stroke-linecap:butt;stroke-linejoin:miter;stroke-opacity:1\"/>\n",
       "<ellipse cx=\"484.184\" cy=\"137.728\" rx=\"36.3856\" ry=\"36.3856\" style=\"fill:#00FFFF;fill-rule:evenodd;stroke:#00FFFF;stroke-width:1px;stroke-linecap:butt;stroke-linejoin:miter;stroke-opacity:1\"/>\n",
       "<path class=\"bond-0\" d=\"M 220.355,665.927 L 299.166,620.499\" style=\"fill:none;fill-rule:evenodd;stroke:#000000;stroke-width:2px;stroke-linecap:butt;stroke-linejoin:miter;stroke-opacity:1\"/>\n",
       "<path class=\"bond-1\" d=\"M 299.166,620.499 L 377.904,666.036\" style=\"fill:none;fill-rule:evenodd;stroke:#000000;stroke-width:2px;stroke-linecap:butt;stroke-linejoin:miter;stroke-opacity:1\"/>\n",
       "<path class=\"bond-2\" d=\"M 299.166,620.499 L 299.239,529.535\" style=\"fill:none;fill-rule:evenodd;stroke:#000000;stroke-width:2px;stroke-linecap:butt;stroke-linejoin:miter;stroke-opacity:1\"/>\n",
       "<path class=\"bond-3\" d=\"M 299.239,529.535 L 378.05,484.108\" style=\"fill:none;fill-rule:evenodd;stroke:#000000;stroke-width:2px;stroke-linecap:butt;stroke-linejoin:miter;stroke-opacity:1\"/>\n",
       "<path class=\"bond-9\" d=\"M 299.239,529.535 L 220.5,483.999\" style=\"fill:none;fill-rule:evenodd;stroke:#000000;stroke-width:2px;stroke-linecap:butt;stroke-linejoin:miter;stroke-opacity:1\"/>\n",
       "<path class=\"bond-4\" d=\"M 378.05,484.108 L 456.788,529.663\" style=\"fill:none;fill-rule:evenodd;stroke:#000000;stroke-width:2px;stroke-linecap:butt;stroke-linejoin:miter;stroke-opacity:1\"/>\n",
       "<path class=\"bond-4\" d=\"M 398.06,476.768 L 453.177,508.657\" style=\"fill:none;fill-rule:evenodd;stroke:#000000;stroke-width:2px;stroke-linecap:butt;stroke-linejoin:miter;stroke-opacity:1\"/>\n",
       "<path class=\"bond-18\" d=\"M 378.05,484.108 L 378.083,442.376\" style=\"fill:none;fill-rule:evenodd;stroke:#000000;stroke-width:2px;stroke-linecap:butt;stroke-linejoin:miter;stroke-opacity:1\"/>\n",
       "<path class=\"bond-18\" d=\"M 378.083,442.376 L 378.117,400.644\" style=\"fill:none;fill-rule:evenodd;stroke:#0000FF;stroke-width:2px;stroke-linecap:butt;stroke-linejoin:miter;stroke-opacity:1\"/>\n",
       "<path class=\"bond-5\" d=\"M 456.788,529.663 L 535.6,484.235\" style=\"fill:none;fill-rule:evenodd;stroke:#000000;stroke-width:2px;stroke-linecap:butt;stroke-linejoin:miter;stroke-opacity:1\"/>\n",
       "<path class=\"bond-6\" d=\"M 535.6,484.235 L 535.672,393.271\" style=\"fill:none;fill-rule:evenodd;stroke:#000000;stroke-width:2px;stroke-linecap:butt;stroke-linejoin:miter;stroke-opacity:1\"/>\n",
       "<path class=\"bond-6\" d=\"M 519.237,470.577 L 519.288,406.903\" style=\"fill:none;fill-rule:evenodd;stroke:#000000;stroke-width:2px;stroke-linecap:butt;stroke-linejoin:miter;stroke-opacity:1\"/>\n",
       "<path class=\"bond-7\" d=\"M 535.672,393.271 L 456.934,347.734\" style=\"fill:none;fill-rule:evenodd;stroke:#000000;stroke-width:2px;stroke-linecap:butt;stroke-linejoin:miter;stroke-opacity:1\"/>\n",
       "<path class=\"bond-8\" d=\"M 456.934,347.734 L 420.779,368.566\" style=\"fill:none;fill-rule:evenodd;stroke:#000000;stroke-width:2px;stroke-linecap:butt;stroke-linejoin:miter;stroke-opacity:1\"/>\n",
       "<path class=\"bond-8\" d=\"M 420.779,368.566 L 384.623,389.398\" style=\"fill:none;fill-rule:evenodd;stroke:#0000FF;stroke-width:2px;stroke-linecap:butt;stroke-linejoin:miter;stroke-opacity:1\"/>\n",
       "<path class=\"bond-8\" d=\"M 454.262,368.171 L 428.953,382.753\" style=\"fill:none;fill-rule:evenodd;stroke:#000000;stroke-width:2px;stroke-linecap:butt;stroke-linejoin:miter;stroke-opacity:1\"/>\n",
       "<path class=\"bond-8\" d=\"M 428.953,382.753 L 403.644,397.336\" style=\"fill:none;fill-rule:evenodd;stroke:#0000FF;stroke-width:2px;stroke-linecap:butt;stroke-linejoin:miter;stroke-opacity:1\"/>\n",
       "<path class=\"bond-10\" d=\"M 220.5,483.999 L 188.254,502.578\" style=\"fill:none;fill-rule:evenodd;stroke:#000000;stroke-width:2px;stroke-linecap:butt;stroke-linejoin:miter;stroke-opacity:1\"/>\n",
       "<path class=\"bond-10\" d=\"M 188.254,502.578 L 156.007,521.158\" style=\"fill:none;fill-rule:evenodd;stroke:#0000FF;stroke-width:2px;stroke-linecap:butt;stroke-linejoin:miter;stroke-opacity:1\"/>\n",
       "<path class=\"bond-11\" d=\"M 228.687,484.005 L 228.72,442.273\" style=\"fill:none;fill-rule:evenodd;stroke:#000000;stroke-width:2px;stroke-linecap:butt;stroke-linejoin:miter;stroke-opacity:1\"/>\n",
       "<path class=\"bond-11\" d=\"M 228.72,442.273 L 228.754,400.541\" style=\"fill:none;fill-rule:evenodd;stroke:#CCCC00;stroke-width:2px;stroke-linecap:butt;stroke-linejoin:miter;stroke-opacity:1\"/>\n",
       "<path class=\"bond-11\" d=\"M 212.313,483.992 L 212.347,442.26\" style=\"fill:none;fill-rule:evenodd;stroke:#000000;stroke-width:2px;stroke-linecap:butt;stroke-linejoin:miter;stroke-opacity:1\"/>\n",
       "<path class=\"bond-11\" d=\"M 212.347,442.26 L 212.38,400.528\" style=\"fill:none;fill-rule:evenodd;stroke:#CCCC00;stroke-width:2px;stroke-linecap:butt;stroke-linejoin:miter;stroke-opacity:1\"/>\n",
       "<path class=\"bond-12\" d=\"M 268.999,842.608 L 301.884,861.627\" style=\"fill:none;fill-rule:evenodd;stroke:#000000;stroke-width:2px;stroke-linecap:butt;stroke-linejoin:miter;stroke-opacity:1\"/>\n",
       "<path class=\"bond-12\" d=\"M 301.884,861.627 L 334.769,880.645\" style=\"fill:none;fill-rule:evenodd;stroke:#0000FF;stroke-width:2px;stroke-linecap:butt;stroke-linejoin:miter;stroke-opacity:1\"/>\n",
       "<path class=\"bond-15\" d=\"M 268.999,842.608 L 190.188,888.017\" style=\"fill:none;fill-rule:evenodd;stroke:#000000;stroke-width:2px;stroke-linecap:butt;stroke-linejoin:miter;stroke-opacity:1\"/>\n",
       "<path class=\"bond-13\" d=\"M 360.739,880.651 L 393.644,861.684\" style=\"fill:none;fill-rule:evenodd;stroke:#0000FF;stroke-width:2px;stroke-linecap:butt;stroke-linejoin:miter;stroke-opacity:1\"/>\n",
       "<path class=\"bond-13\" d=\"M 393.644,861.684 L 426.549,842.717\" style=\"fill:none;fill-rule:evenodd;stroke:#000000;stroke-width:2px;stroke-linecap:butt;stroke-linejoin:miter;stroke-opacity:1\"/>\n",
       "<path class=\"bond-14\" d=\"M 426.549,842.717 L 505.288,888.272\" style=\"fill:none;fill-rule:evenodd;stroke:#000000;stroke-width:2px;stroke-linecap:butt;stroke-linejoin:miter;stroke-opacity:1\"/>\n",
       "<path class=\"bond-16\" d=\"M 120.328,236.879 L 162.307,236.879\" style=\"fill:none;fill-rule:evenodd;stroke:#000000;stroke-width:2px;stroke-linecap:butt;stroke-linejoin:miter;stroke-opacity:1\"/>\n",
       "<path class=\"bond-16\" d=\"M 162.307,236.879 L 204.287,236.879\" style=\"fill:none;fill-rule:evenodd;stroke:#FF0000;stroke-width:2px;stroke-linecap:butt;stroke-linejoin:miter;stroke-opacity:1\"/>\n",
       "<path class=\"bond-16\" d=\"M 120.328,220.505 L 162.307,220.505\" style=\"fill:none;fill-rule:evenodd;stroke:#000000;stroke-width:2px;stroke-linecap:butt;stroke-linejoin:miter;stroke-opacity:1\"/>\n",
       "<path class=\"bond-16\" d=\"M 162.307,220.505 L 204.287,220.505\" style=\"fill:none;fill-rule:evenodd;stroke:#FF0000;stroke-width:2px;stroke-linecap:butt;stroke-linejoin:miter;stroke-opacity:1\"/>\n",
       "<path class=\"bond-17\" d=\"M 393.22,137.728 L 431.949,137.728\" style=\"fill:none;fill-rule:evenodd;stroke:#000000;stroke-width:2px;stroke-linecap:butt;stroke-linejoin:miter;stroke-opacity:1\"/>\n",
       "<path class=\"bond-17\" d=\"M 431.949,137.728 L 470.678,137.728\" style=\"fill:none;fill-rule:evenodd;stroke:#FF0000;stroke-width:2px;stroke-linecap:butt;stroke-linejoin:miter;stroke-opacity:1\"/>\n",
       "<text style=\"font-size:15px;font-style:normal;font-weight:normal;fill-opacity:1;stroke:none;font-family:sans-serif;text-anchor:start;fill:#0000FF\" x=\"371.622\" y=\"400.644\"><tspan>N</tspan></text>\n",
       "<text style=\"font-size:15px;font-style:normal;font-weight:normal;fill-opacity:1;stroke:none;font-family:sans-serif;text-anchor:start;fill:#0000FF\" x=\"126.185\" y=\"537.658\"><tspan>H</tspan><tspan style=\"baseline-shift:sub;font-size:11.25px;\">2</tspan><tspan>N</tspan></text>\n",
       "<text style=\"font-size:15px;font-style:normal;font-weight:normal;fill-opacity:1;stroke:none;font-family:sans-serif;text-anchor:start;fill:#CCCC00\" x=\"214.567\" y=\"400.535\"><tspan>S</tspan></text>\n",
       "<text style=\"font-size:15px;font-style:normal;font-weight:normal;fill-opacity:1;stroke:none;font-family:sans-serif;text-anchor:start;fill:#0000FF\" x=\"334.737\" y=\"895.645\"><tspan>NH</tspan></text>\n",
       "<text style=\"font-size:15px;font-style:normal;font-weight:normal;fill-opacity:1;stroke:none;font-family:sans-serif;text-anchor:start;fill:#FF0000\" x=\"204.287\" y=\"236.192\"><tspan>O</tspan></text>\n",
       "<text style=\"font-size:15px;font-style:normal;font-weight:normal;fill-opacity:1;stroke:none;font-family:sans-serif;text-anchor:start;fill:#FF0000\" x=\"470.678\" y=\"145.228\"><tspan>OH</tspan></text>\n",
       "</svg>"
      ],
      "text/plain": [
       "<IPython.core.display.SVG object>"
      ]
     },
     "execution_count": 20,
     "metadata": {},
     "output_type": "execute_result"
    }
   ],
   "source": [
    "r = get_molecule_svg(r_mol, target=mp, dpa=100)\n",
    "SVG(r)"
   ]
  },
  {
   "cell_type": "code",
   "execution_count": null,
   "metadata": {
    "scrolled": true
   },
   "outputs": [],
   "source": [
    "r = get_molecule_png(r_mol, target=c, dpa=100)\n",
    "SVG(r)"
   ]
  },
  {
   "cell_type": "code",
   "execution_count": null,
   "metadata": {},
   "outputs": [],
   "source": []
  },
  {
   "cell_type": "code",
   "execution_count": null,
   "metadata": {},
   "outputs": [],
   "source": []
  }
 ],
 "metadata": {
  "kernelspec": {
   "display_name": "Chem",
   "language": "python",
   "name": "chem"
  },
  "language_info": {
   "codemirror_mode": {
    "name": "ipython",
    "version": 3
   },
   "file_extension": ".py",
   "mimetype": "text/x-python",
   "name": "python",
   "nbconvert_exporter": "python",
   "pygments_lexer": "ipython3",
   "version": "3.7.6"
  }
 },
 "nbformat": 4,
 "nbformat_minor": 2
}
