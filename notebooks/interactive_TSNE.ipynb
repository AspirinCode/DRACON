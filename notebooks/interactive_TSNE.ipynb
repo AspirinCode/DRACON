{
 "cells": [
  {
   "cell_type": "code",
   "execution_count": 1,
   "metadata": {},
   "outputs": [],
   "source": [
    "import pickle\n",
    "import numpy as np\n",
    "import bokeh"
   ]
  },
  {
   "cell_type": "code",
   "execution_count": 2,
   "metadata": {},
   "outputs": [
    {
     "data": {
      "text/html": [
       "\n",
       "    <div class=\"bk-root\">\n",
       "        <a href=\"https://bokeh.org\" target=\"_blank\" class=\"bk-logo bk-logo-small bk-logo-notebook\"></a>\n",
       "        <span id=\"1001\">Loading BokehJS ...</span>\n",
       "    </div>"
      ]
     },
     "metadata": {},
     "output_type": "execute_result"
    },
    {
     "data": {},
     "metadata": {},
     "output_type": "display_data"
    }
   ],
   "source": [
    "from bokeh.plotting import figure, output_file, show, ColumnDataSource\n",
    "from bokeh.models import HoverTool, BoxZoomTool, ResetTool, LassoSelectTool, CategoricalColorMapper\n",
    "                                  \n",
    "from bokeh.io import output_notebook\n",
    "from bokeh.palettes import d3\n",
    "output_notebook()"
   ]
  },
  {
   "cell_type": "markdown",
   "metadata": {},
   "source": [
    "# Saved t-SNE"
   ]
  },
  {
   "cell_type": "code",
   "execution_count": 3,
   "metadata": {},
   "outputs": [],
   "source": [
    "embed_2d = pickle.load(open('data_visualisation/2d_embeddings.pkl', 'rb'))\n",
    "idxs, embed = zip(*embed_2d.items())\n",
    "embed = np.c_[embed]"
   ]
  },
  {
   "cell_type": "code",
   "execution_count": 4,
   "metadata": {},
   "outputs": [],
   "source": [
    "r_paths = [f'data_visualisation/test_imgs/{idx}_r.svg' for idx in idxs]\n",
    "p_paths = [f'data_visualisation/test_imgs/{idx}_p.svg' for idx in idxs]"
   ]
  },
  {
   "cell_type": "code",
   "execution_count": 5,
   "metadata": {},
   "outputs": [
    {
     "data": {
      "text/html": [
       "\n",
       "\n",
       "\n",
       "\n",
       "\n",
       "\n",
       "  <div class=\"bk-root\" id=\"d969555a-03ee-40e4-a6fd-6933fdc70a39\" data-root-id=\"1007\"></div>\n"
      ]
     },
     "metadata": {},
     "output_type": "execute_result"
    },
    {
     "data": {},
     "metadata": {
      "application/vnd.bokehjs_exec.v0+json": {
       "id": "1007"
      }
     },
     "output_type": "display_data"
    }
   ],
   "source": [
    "output_file(\"reactions_tsne.html\")\n",
    "\n",
    "source = ColumnDataSource(\n",
    "        data=dict(\n",
    "            x=embed[0],\n",
    "            y=embed[1],\n",
    "            r_imgs = r_paths,\n",
    "            p_imgs = p_paths\n",
    "        )\n",
    "    )\n",
    "\n",
    "hover = HoverTool(\n",
    "        tooltips=\"\"\"\n",
    "            <div class=\"row\">\n",
    "                  <div class=\"column\">\n",
    "                      <embed type=\"image/svg+xml\" src=\"@r_imgs\" width=\"200px\" height=\"200px\"/>\n",
    "                  </div>\n",
    "                  <div class=\"column\">\n",
    "                      <embed type=\"image/svg+xml\" src=\"@p_imgs\" width=\"200px\" height=\"200px\"/>\n",
    "                  </div>\n",
    "            </div>\n",
    "            \"\"\"\n",
    "    )\n",
    "\n",
    "p = figure(plot_width=800, plot_height=800, tools=[hover, BoxZoomTool(), ResetTool(), LassoSelectTool()],\n",
    "           title=\"Embedding of reactions in 2D space\", margin=200)\n",
    "\n",
    "p.circle('x', 'y', size=5, source=source)\n",
    "\n",
    "show(p)"
   ]
  },
  {
   "cell_type": "markdown",
   "metadata": {},
   "source": [
    "# Your own t-SNE"
   ]
  },
  {
   "cell_type": "code",
   "execution_count": 6,
   "metadata": {},
   "outputs": [],
   "source": [
    "from sklearn.cluster import KMeans\n",
    "from MulticoreTSNE import MulticoreTSNE as TSNE"
   ]
  },
  {
   "cell_type": "code",
   "execution_count": 7,
   "metadata": {},
   "outputs": [],
   "source": [
    "embed = pickle.load(open('data_visualisation/original_embeddings.pkl', 'rb'))\n",
    "idxs, embed = zip(*embed.items())\n",
    "embed = np.c_[embed].T"
   ]
  },
  {
   "cell_type": "code",
   "execution_count": 8,
   "metadata": {},
   "outputs": [],
   "source": [
    "embed_2d = TSNE(n_jobs=20).fit_transform(embed)"
   ]
  },
  {
   "cell_type": "code",
   "execution_count": 9,
   "metadata": {},
   "outputs": [],
   "source": [
    "cls = KMeans(n_clusters=15).fit_predict(embed)"
   ]
  },
  {
   "cell_type": "code",
   "execution_count": 10,
   "metadata": {},
   "outputs": [
    {
     "data": {
      "text/html": [
       "\n",
       "\n",
       "\n",
       "\n",
       "\n",
       "\n",
       "  <div class=\"bk-root\" id=\"0f7be628-3002-43d6-a82a-c0aa8bcfabba\" data-root-id=\"1207\"></div>\n"
      ]
     },
     "metadata": {},
     "output_type": "execute_result"
    },
    {
     "data": {},
     "metadata": {
      "application/vnd.bokehjs_exec.v0+json": {
       "id": "1207"
      }
     },
     "output_type": "display_data"
    }
   ],
   "source": [
    "output_file(\"reactions_own_tsne.html\")\n",
    "\n",
    "source = ColumnDataSource(\n",
    "        data=dict(\n",
    "            x=embed_2d[:, 0],\n",
    "            y=embed_2d[:, 1],\n",
    "            r_imgs = r_paths,\n",
    "            p_imgs = p_paths, \n",
    "            c = cls.astype(str)\n",
    "        )\n",
    "    )\n",
    "\n",
    "hover = HoverTool(\n",
    "        tooltips=\"\"\"\n",
    "            <div class=\"row\">\n",
    "                  <div class=\"column\">\n",
    "                      <embed type=\"image/svg+xml\" src=\"@r_imgs\" width=\"300px\" height=\"300px\"/>\n",
    "                  </div>\n",
    "                  <div class=\"column\">\n",
    "                      <embed type=\"image/svg+xml\" src=\"@p_imgs\" width=\"300px\" height=\"300px\"/>\n",
    "                  </div>\n",
    "            </div>\n",
    "            \"\"\"\n",
    "    )\n",
    "palette = d3['Category20'][15]\n",
    "color_map = CategoricalColorMapper(factors=np.arange(15).astype(str), palette=palette)\n",
    "\n",
    "p = figure(plot_width=800, plot_height=800, tools=[hover, BoxZoomTool(), ResetTool(), LassoSelectTool()],\n",
    "           title=\"Embedding of reactions in 2D space\", margin=200)\n",
    "\n",
    "p.circle('x', 'y', size=5, source=source, color={'field': 'c', 'transform': color_map},)\n",
    "\n",
    "show(p)"
   ]
  },
  {
   "cell_type": "code",
   "execution_count": null,
   "metadata": {},
   "outputs": [],
   "source": []
  }
 ],
 "metadata": {
  "kernelspec": {
   "display_name": "Chem",
   "language": "python",
   "name": "chem"
  },
  "language_info": {
   "codemirror_mode": {
    "name": "ipython",
    "version": 3
   },
   "file_extension": ".py",
   "mimetype": "text/x-python",
   "name": "python",
   "nbconvert_exporter": "python",
   "pygments_lexer": "ipython3",
   "version": "3.7.6"
  }
 },
 "nbformat": 4,
 "nbformat_minor": 2
}
