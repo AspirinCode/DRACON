{
 "cells": [
  {
   "cell_type": "code",
   "execution_count": 1,
   "metadata": {},
   "outputs": [],
   "source": [
    "import sys\n",
    "sys.path.append('..')"
   ]
  },
  {
   "cell_type": "code",
   "execution_count": 2,
   "metadata": {},
   "outputs": [
    {
     "name": "stderr",
     "output_type": "stream",
     "text": [
      "RDKit WARNING: [11:04:17] Enabling RDKit 2019.09.3 jupyter extensions\n"
     ]
    }
   ],
   "source": [
    "import pickle\n",
    "from utils.draw_utils import draw_reaction, prune_dataset_by_length\n",
    "from rdkit.Chem.Draw import IPythonConsole\n",
    "from IPython.display import SVG, Image\n",
    "IPythonConsole.molSize = (400,400)"
   ]
  },
  {
   "cell_type": "code",
   "execution_count": 3,
   "metadata": {},
   "outputs": [],
   "source": [
    "test_dataset = pickle.load(open('../data/graphs/test.pkl', 'rb'))"
   ]
  },
  {
   "cell_type": "code",
   "execution_count": 5,
   "metadata": {},
   "outputs": [
    {
     "data": {
      "text/plain": [
       "48961"
      ]
     },
     "execution_count": 5,
     "metadata": {},
     "output_type": "execute_result"
    }
   ],
   "source": [
    "len(test_dataset)"
   ]
  },
  {
   "cell_type": "code",
   "execution_count": 8,
   "metadata": {},
   "outputs": [
    {
     "data": {
      "text/plain": [
       "48844"
      ]
     },
     "execution_count": 8,
     "metadata": {},
     "output_type": "execute_result"
    }
   ],
   "source": [
    "len(prune_dataset_by_length(test_dataset, 150))"
   ]
  },
  {
   "cell_type": "code",
   "execution_count": 9,
   "metadata": {},
   "outputs": [
    {
     "data": {
      "text/plain": [
       "36916"
      ]
     },
     "execution_count": 9,
     "metadata": {},
     "output_type": "execute_result"
    }
   ],
   "source": [
    "len(prune_dataset_by_length(test_dataset, 50))"
   ]
  },
  {
   "cell_type": "code",
   "execution_count": 9,
   "metadata": {},
   "outputs": [
    {
     "data": {
      "text/plain": [
       "{'product': {'sender': array([ 0,  1,  2,  3,  4,  5,  6,  7,  8,  9, 10, 11, 12, 13,  8,  6, 14],\n",
       "        dtype=int32),\n",
       "  'reciever': array([ 1,  2,  3,  4,  5,  6,  7,  8,  9, 10, 11, 12, 13, 14, 15,  1,  9],\n",
       "        dtype=int32),\n",
       "  'types': array(['SINGLE', 'AROMATIC', 'AROMATIC', 'AROMATIC', 'AROMATIC',\n",
       "         'AROMATIC', 'SINGLE', 'SINGLE', 'SINGLE', 'AROMATIC', 'AROMATIC',\n",
       "         'AROMATIC', 'AROMATIC', 'AROMATIC', 'SINGLE', 'AROMATIC',\n",
       "         'AROMATIC'], dtype='<U10'),\n",
       "  'nodes': array([7, 6, 6, 6, 6, 6, 6, 6, 6, 6, 6, 6, 6, 6, 7, 6], dtype=int32),\n",
       "  'features': array([[1, 3, 2, 2, 2, 2, 3, 2, 3, 3, 2, 2, 2, 2, 2, 1],\n",
       "         [3, 4, 4, 4, 4, 4, 4, 4, 4, 4, 4, 4, 4, 4, 3, 4],\n",
       "         [3, 3, 3, 3, 3, 3, 3, 4, 4, 3, 3, 3, 3, 3, 3, 4],\n",
       "         [0, 0, 0, 0, 0, 0, 0, 0, 0, 0, 0, 0, 0, 0, 0, 0],\n",
       "         [0, 1, 1, 1, 1, 1, 1, 0, 0, 1, 1, 1, 1, 1, 1, 0],\n",
       "         [1, 1, 1, 1, 1, 1, 1, 1, 1, 1, 1, 1, 1, 1, 1, 1],\n",
       "         [2, 0, 1, 1, 1, 1, 0, 2, 1, 0, 1, 1, 1, 1, 0, 3],\n",
       "         [0, 0, 0, 0, 0, 0, 0, 0, 0, 0, 0, 0, 0, 0, 0, 0],\n",
       "         [0, 1, 1, 1, 1, 1, 1, 0, 0, 1, 1, 1, 1, 1, 1, 0],\n",
       "         [0, 0, 0, 0, 0, 0, 0, 0, 0, 0, 0, 0, 0, 0, 0, 0],\n",
       "         [0, 0, 0, 0, 0, 0, 0, 0, 0, 0, 0, 0, 0, 0, 0, 0]], dtype=int32),\n",
       "  'mask': array([16, 11, 12, 13, 14, 15, 10,  2,  3,  4,  9,  8,  7,  6,  5, 19],\n",
       "        dtype=int32)},\n",
       " 'reactants': {'lengths': array([ 0, 18, 21, 22]),\n",
       "  'sender': array([ 0,  1,  2,  3,  4,  5,  6,  7,  8,  8,  1, 11, 12, 13, 14, 15, 16,\n",
       "         18, 18,  7, 17], dtype=int32),\n",
       "  'reciever': array([ 1,  2,  3,  4,  5,  6,  7,  8,  9, 10, 11, 12, 13, 14, 15, 16, 17,\n",
       "         19, 20,  2, 12], dtype=int32),\n",
       "  'types': array(['SINGLE', 'SINGLE', 'AROMATIC', 'AROMATIC', 'AROMATIC', 'AROMATIC',\n",
       "         'AROMATIC', 'SINGLE', 'SINGLE', 'DOUBLE', 'DOUBLE', 'SINGLE',\n",
       "         'AROMATIC', 'AROMATIC', 'AROMATIC', 'AROMATIC', 'AROMATIC',\n",
       "         'SINGLE', 'SINGLE', 'AROMATIC', 'AROMATIC'], dtype='<U10'),\n",
       "  'nodes': array([ 6,  6,  6,  6,  6,  6,  6,  6,  7,  8,  8,  6,  6,  6,  6,  6,  6,\n",
       "          7,  6,  8,  6, 46], dtype=int32),\n",
       "  'features': array([[ 1,  3,  3,  2,  2,  2,  2,  3,  3,  1,  1,  2,  3,  2,  2,  2,\n",
       "           2,  2,  2,  1,  1,  0],\n",
       "         [ 1,  4,  4,  4,  4,  4,  4,  4,  4,  1,  2,  4,  4,  4,  4,  4,\n",
       "           4,  3,  4,  1,  1,  0],\n",
       "         [ 4,  3,  3,  3,  3,  3,  3,  3,  3,  3,  3,  3,  3,  3,  3,  3,\n",
       "           3,  3,  4,  4,  4,  5],\n",
       "         [ 3,  0,  0,  0,  0,  0,  0,  0,  0,  0,  0,  0,  0,  0,  0,  0,\n",
       "           0,  0,  0,  1,  3,  0],\n",
       "         [ 0,  0,  1,  1,  1,  1,  1,  1,  0,  0,  0,  0,  1,  1,  1,  1,\n",
       "           1,  1,  0,  0,  0,  0],\n",
       "         [ 0,  1,  1,  1,  1,  1,  1,  1,  1,  1,  0,  1,  1,  1,  1,  1,\n",
       "           1,  1,  1,  0,  0,  1],\n",
       "         [ 0,  0,  0,  1,  1,  1,  1,  0,  0,  0,  0,  1,  0,  1,  1,  1,\n",
       "           1,  0,  2,  0,  0,  0],\n",
       "         [ 3,  0,  0,  0,  0,  0,  0,  0,  0,  0,  0,  0,  0,  0,  0,  0,\n",
       "           0,  0,  0,  1,  3,  0],\n",
       "         [ 0,  0,  1,  1,  1,  1,  1,  1,  0,  0,  0,  0,  1,  1,  1,  1,\n",
       "           1,  1,  0,  0,  0,  0],\n",
       "         [ 0,  0,  0,  0,  0,  0,  0,  0,  0,  0,  0,  0,  0,  0,  0,  0,\n",
       "           0,  0,  0,  0,  0,  0],\n",
       "         [ 0,  0,  0,  0,  0,  0,  0,  0,  1, -1,  0,  0,  0,  0,  0,  0,\n",
       "           0,  0,  0,  0,  0,  0]], dtype=int32),\n",
       "  'mask': array([ 0,  2, 10, 15, 14, 13, 12, 11, 16,  0,  0,  3,  4,  9,  8,  7,  6,\n",
       "          5, 19,  0,  0,  0], dtype=int32)},\n",
       " 'target_main_product': array([0, 1, 1, 1, 1, 1, 1, 1, 1, 0, 0, 1, 1, 1, 1, 1, 1, 1, 1, 0, 0, 0],\n",
       "       dtype=int32),\n",
       " 'target_center': array([-1,  1,  0,  0,  0,  0,  0,  0,  1, -1, -1,  1,  0,  0,  0,  0,  0,\n",
       "         0,  1, -1, -1, -1], dtype=int32),\n",
       " 'smarts': 'C[C:2]([C:10]1[CH:15]=[CH:14][CH:13]=[CH:12][C:11]=1[N+:16]([O-])=O)=[CH:3][C:4]1[CH:9]=[CH:8][CH:7]=[CH:6][N:5]=1.[CH2:19](O)C>[Pd]>[NH2:16][C:11]1[CH:12]=[CH:13][CH:14]=[CH:15][C:10]=1[CH2:2][CH:3]([C:4]1[CH:9]=[CH:8][CH:7]=[CH:6][N:5]=1)[CH3:19]',\n",
       " 'smiles': 'CC(=Cc1ccccn1)c1ccccc1[N+](=O)[O-].CCO>[Pd]>CC(Cc1ccccc1N)c1ccccn1'}"
      ]
     },
     "execution_count": 9,
     "metadata": {},
     "output_type": "execute_result"
    }
   ],
   "source": [
    "idx = 12\n",
    "data = test_dataset[idx]\n",
    "data"
   ]
  },
  {
   "cell_type": "code",
   "execution_count": 5,
   "metadata": {},
   "outputs": [],
   "source": [
    "p_svg, r_svg = draw_reaction(data)"
   ]
  },
  {
   "cell_type": "code",
   "execution_count": 6,
   "metadata": {},
   "outputs": [
    {
     "data": {
      "image/svg+xml": [
       "<svg baseProfile=\"full\" height=\"501px\" version=\"1.1\" viewBox=\"0 0 893 501\" width=\"893px\" xml:space=\"preserve\" xmlns=\"http://www.w3.org/2000/svg\" xmlns:rdkit=\"http://www.rdkit.org/xml\" xmlns:xlink=\"http://www.w3.org/1999/xlink\">\n",
       "<!-- END OF HEADER -->\n",
       "<rect height=\"501\" style=\"opacity:1.0;fill:#FFFFFF;stroke:none\" width=\"893\" x=\"0\" y=\"0\"> </rect>\n",
       "<path d=\"M 682.068,386.382 L 682.141,295.461\" style=\"fill:none;fill-rule:evenodd;stroke:#CCFFCC;stroke-width:16px;stroke-linecap:butt;stroke-linejoin:miter;stroke-opacity:1\"/>\n",
       "<path d=\"M 682.141,295.461 L 760.915,250.055\" style=\"fill:none;fill-rule:evenodd;stroke:#CCFFCC;stroke-width:16px;stroke-linecap:butt;stroke-linejoin:miter;stroke-opacity:1\"/>\n",
       "<path d=\"M 682.141,295.461 L 603.439,249.927\" style=\"fill:none;fill-rule:evenodd;stroke:#CCFFCC;stroke-width:16px;stroke-linecap:butt;stroke-linejoin:miter;stroke-opacity:1\"/>\n",
       "<path d=\"M 760.915,250.055 L 760.988,159.133\" style=\"fill:none;fill-rule:evenodd;stroke:#CCFFCC;stroke-width:16px;stroke-linecap:butt;stroke-linejoin:miter;stroke-opacity:1\"/>\n",
       "<path d=\"M 760.988,159.133 L 682.286,113.618\" style=\"fill:none;fill-rule:evenodd;stroke:#CCFFCC;stroke-width:16px;stroke-linecap:butt;stroke-linejoin:miter;stroke-opacity:1\"/>\n",
       "<path d=\"M 682.286,113.618 L 603.512,159.006\" style=\"fill:none;fill-rule:evenodd;stroke:#CCFFCC;stroke-width:16px;stroke-linecap:butt;stroke-linejoin:miter;stroke-opacity:1\"/>\n",
       "<path d=\"M 603.512,159.006 L 603.439,249.927\" style=\"fill:none;fill-rule:evenodd;stroke:#CCFFCC;stroke-width:16px;stroke-linecap:butt;stroke-linejoin:miter;stroke-opacity:1\"/>\n",
       "<path d=\"M 603.439,249.927 L 524.665,295.333\" style=\"fill:none;fill-rule:evenodd;stroke:#CCFFCC;stroke-width:16px;stroke-linecap:butt;stroke-linejoin:miter;stroke-opacity:1\"/>\n",
       "<path d=\"M 524.665,295.333 L 445.964,249.8\" style=\"fill:none;fill-rule:evenodd;stroke:#CCFFCC;stroke-width:16px;stroke-linecap:butt;stroke-linejoin:miter;stroke-opacity:1\"/>\n",
       "<path d=\"M 524.665,295.333 L 524.592,386.255\" style=\"fill:none;fill-rule:evenodd;stroke:#CCFFCC;stroke-width:16px;stroke-linecap:butt;stroke-linejoin:miter;stroke-opacity:1\"/>\n",
       "<path d=\"M 445.964,249.8 L 367.189,295.206\" style=\"fill:none;fill-rule:evenodd;stroke:#CCFFCC;stroke-width:16px;stroke-linecap:butt;stroke-linejoin:miter;stroke-opacity:1\"/>\n",
       "<path d=\"M 367.189,295.206 L 288.488,249.691\" style=\"fill:none;fill-rule:evenodd;stroke:#CCFFCC;stroke-width:16px;stroke-linecap:butt;stroke-linejoin:miter;stroke-opacity:1\"/>\n",
       "<path d=\"M 288.488,249.691 L 209.714,295.079\" style=\"fill:none;fill-rule:evenodd;stroke:#7F7FFF;stroke-width:16px;stroke-linecap:butt;stroke-linejoin:miter;stroke-opacity:1\"/>\n",
       "<path d=\"M 288.488,249.691 L 288.561,158.77\" style=\"fill:none;fill-rule:evenodd;stroke:#CCFFCC;stroke-width:16px;stroke-linecap:butt;stroke-linejoin:miter;stroke-opacity:1\"/>\n",
       "<path d=\"M 209.714,295.079 L 131.012,249.564\" style=\"fill:none;fill-rule:evenodd;stroke:#7F7FFF;stroke-width:16px;stroke-linecap:butt;stroke-linejoin:miter;stroke-opacity:1\"/>\n",
       "<ellipse cx=\"682.068\" cy=\"386.382\" rx=\"36.3685\" ry=\"36.3685\" style=\"fill:#CCFFCC;fill-rule:evenodd;stroke:#CCFFCC;stroke-width:1px;stroke-linecap:butt;stroke-linejoin:miter;stroke-opacity:1\"/>\n",
       "<ellipse cx=\"682.141\" cy=\"295.461\" rx=\"36.3685\" ry=\"36.3685\" style=\"fill:#CCFFCC;fill-rule:evenodd;stroke:#CCFFCC;stroke-width:1px;stroke-linecap:butt;stroke-linejoin:miter;stroke-opacity:1\"/>\n",
       "<ellipse cx=\"760.915\" cy=\"250.055\" rx=\"36.3685\" ry=\"36.3685\" style=\"fill:#CCFFCC;fill-rule:evenodd;stroke:#CCFFCC;stroke-width:1px;stroke-linecap:butt;stroke-linejoin:miter;stroke-opacity:1\"/>\n",
       "<ellipse cx=\"760.988\" cy=\"159.133\" rx=\"36.3685\" ry=\"36.3685\" style=\"fill:#CCFFCC;fill-rule:evenodd;stroke:#CCFFCC;stroke-width:1px;stroke-linecap:butt;stroke-linejoin:miter;stroke-opacity:1\"/>\n",
       "<ellipse cx=\"682.286\" cy=\"113.618\" rx=\"36.3685\" ry=\"36.3685\" style=\"fill:#CCFFCC;fill-rule:evenodd;stroke:#CCFFCC;stroke-width:1px;stroke-linecap:butt;stroke-linejoin:miter;stroke-opacity:1\"/>\n",
       "<ellipse cx=\"603.512\" cy=\"159.006\" rx=\"36.3685\" ry=\"36.3685\" style=\"fill:#CCFFCC;fill-rule:evenodd;stroke:#CCFFCC;stroke-width:1px;stroke-linecap:butt;stroke-linejoin:miter;stroke-opacity:1\"/>\n",
       "<ellipse cx=\"603.439\" cy=\"249.927\" rx=\"36.3685\" ry=\"36.3685\" style=\"fill:#CCFFCC;fill-rule:evenodd;stroke:#CCFFCC;stroke-width:1px;stroke-linecap:butt;stroke-linejoin:miter;stroke-opacity:1\"/>\n",
       "<ellipse cx=\"524.665\" cy=\"295.333\" rx=\"36.3685\" ry=\"36.3685\" style=\"fill:#CCFFCC;fill-rule:evenodd;stroke:#CCFFCC;stroke-width:1px;stroke-linecap:butt;stroke-linejoin:miter;stroke-opacity:1\"/>\n",
       "<ellipse cx=\"445.964\" cy=\"249.8\" rx=\"36.3685\" ry=\"36.3685\" style=\"fill:#CCFFCC;fill-rule:evenodd;stroke:#CCFFCC;stroke-width:1px;stroke-linecap:butt;stroke-linejoin:miter;stroke-opacity:1\"/>\n",
       "<ellipse cx=\"367.189\" cy=\"295.206\" rx=\"36.3685\" ry=\"36.3685\" style=\"fill:#CCFFCC;fill-rule:evenodd;stroke:#CCFFCC;stroke-width:1px;stroke-linecap:butt;stroke-linejoin:miter;stroke-opacity:1\"/>\n",
       "<ellipse cx=\"288.488\" cy=\"249.691\" rx=\"36.3685\" ry=\"36.3685\" style=\"fill:#CCFFCC;fill-rule:evenodd;stroke:#CCFFCC;stroke-width:1px;stroke-linecap:butt;stroke-linejoin:miter;stroke-opacity:1\"/>\n",
       "<ellipse cx=\"209.714\" cy=\"295.079\" rx=\"36.3685\" ry=\"36.3685\" style=\"fill:#7F7FFF;fill-rule:evenodd;stroke:#7F7FFF;stroke-width:1px;stroke-linecap:butt;stroke-linejoin:miter;stroke-opacity:1\"/>\n",
       "<ellipse cx=\"131.012\" cy=\"249.564\" rx=\"36.3685\" ry=\"36.3685\" style=\"fill:#7F7FFF;fill-rule:evenodd;stroke:#7F7FFF;stroke-width:1px;stroke-linecap:butt;stroke-linejoin:miter;stroke-opacity:1\"/>\n",
       "<ellipse cx=\"288.561\" cy=\"158.77\" rx=\"36.3685\" ry=\"36.3685\" style=\"fill:#CCFFCC;fill-rule:evenodd;stroke:#CCFFCC;stroke-width:1px;stroke-linecap:butt;stroke-linejoin:miter;stroke-opacity:1\"/>\n",
       "<ellipse cx=\"524.592\" cy=\"386.255\" rx=\"36.3685\" ry=\"36.3685\" style=\"fill:#CCFFCC;fill-rule:evenodd;stroke:#CCFFCC;stroke-width:1px;stroke-linecap:butt;stroke-linejoin:miter;stroke-opacity:1\"/>\n",
       "<path class=\"bond-0\" d=\"M 682.074,378.882 L 682.107,337.171\" style=\"fill:none;fill-rule:evenodd;stroke:#FF0000;stroke-width:2px;stroke-linecap:butt;stroke-linejoin:miter;stroke-opacity:1\"/>\n",
       "<path class=\"bond-0\" d=\"M 682.107,337.171 L 682.141,295.461\" style=\"fill:none;fill-rule:evenodd;stroke:#000000;stroke-width:2px;stroke-linecap:butt;stroke-linejoin:miter;stroke-opacity:1\"/>\n",
       "<path class=\"bond-1\" d=\"M 682.141,295.461 L 760.915,250.055\" style=\"fill:none;fill-rule:evenodd;stroke:#000000;stroke-width:2px;stroke-linecap:butt;stroke-linejoin:miter;stroke-opacity:1\"/>\n",
       "<path class=\"bond-1\" d=\"M 685.784,274.471 L 740.926,242.686\" style=\"fill:none;fill-rule:evenodd;stroke:#000000;stroke-width:2px;stroke-linecap:butt;stroke-linejoin:miter;stroke-opacity:1\"/>\n",
       "<path class=\"bond-14\" d=\"M 682.141,295.461 L 603.439,249.927\" style=\"fill:none;fill-rule:evenodd;stroke:#000000;stroke-width:2px;stroke-linecap:butt;stroke-linejoin:miter;stroke-opacity:1\"/>\n",
       "<path class=\"bond-2\" d=\"M 760.915,250.055 L 760.988,159.133\" style=\"fill:none;fill-rule:evenodd;stroke:#000000;stroke-width:2px;stroke-linecap:butt;stroke-linejoin:miter;stroke-opacity:1\"/>\n",
       "<path class=\"bond-3\" d=\"M 760.988,159.133 L 682.286,113.618\" style=\"fill:none;fill-rule:evenodd;stroke:#000000;stroke-width:2px;stroke-linecap:butt;stroke-linejoin:miter;stroke-opacity:1\"/>\n",
       "<path class=\"bond-3\" d=\"M 740.989,166.473 L 685.898,134.613\" style=\"fill:none;fill-rule:evenodd;stroke:#000000;stroke-width:2px;stroke-linecap:butt;stroke-linejoin:miter;stroke-opacity:1\"/>\n",
       "<path class=\"bond-4\" d=\"M 682.286,113.618 L 603.512,159.006\" style=\"fill:none;fill-rule:evenodd;stroke:#000000;stroke-width:2px;stroke-linecap:butt;stroke-linejoin:miter;stroke-opacity:1\"/>\n",
       "<path class=\"bond-5\" d=\"M 603.512,159.006 L 603.439,249.927\" style=\"fill:none;fill-rule:evenodd;stroke:#000000;stroke-width:2px;stroke-linecap:butt;stroke-linejoin:miter;stroke-opacity:1\"/>\n",
       "<path class=\"bond-5\" d=\"M 619.867,172.657 L 619.816,236.302\" style=\"fill:none;fill-rule:evenodd;stroke:#000000;stroke-width:2px;stroke-linecap:butt;stroke-linejoin:miter;stroke-opacity:1\"/>\n",
       "<path class=\"bond-6\" d=\"M 603.439,249.927 L 524.665,295.333\" style=\"fill:none;fill-rule:evenodd;stroke:#000000;stroke-width:2px;stroke-linecap:butt;stroke-linejoin:miter;stroke-opacity:1\"/>\n",
       "<path class=\"bond-7\" d=\"M 524.665,295.333 L 445.964,249.8\" style=\"fill:none;fill-rule:evenodd;stroke:#000000;stroke-width:2px;stroke-linecap:butt;stroke-linejoin:miter;stroke-opacity:1\"/>\n",
       "<path class=\"bond-13\" d=\"M 516.482,295.327 L 516.449,337.037\" style=\"fill:none;fill-rule:evenodd;stroke:#000000;stroke-width:2px;stroke-linecap:butt;stroke-linejoin:miter;stroke-opacity:1\"/>\n",
       "<path class=\"bond-13\" d=\"M 516.449,337.037 L 516.415,378.748\" style=\"fill:none;fill-rule:evenodd;stroke:#FF0000;stroke-width:2px;stroke-linecap:butt;stroke-linejoin:miter;stroke-opacity:1\"/>\n",
       "<path class=\"bond-13\" d=\"M 532.848,295.34 L 532.815,337.051\" style=\"fill:none;fill-rule:evenodd;stroke:#000000;stroke-width:2px;stroke-linecap:butt;stroke-linejoin:miter;stroke-opacity:1\"/>\n",
       "<path class=\"bond-13\" d=\"M 532.815,337.051 L 532.781,378.761\" style=\"fill:none;fill-rule:evenodd;stroke:#FF0000;stroke-width:2px;stroke-linecap:butt;stroke-linejoin:miter;stroke-opacity:1\"/>\n",
       "<path class=\"bond-8\" d=\"M 445.964,249.8 L 367.189,295.206\" style=\"fill:none;fill-rule:evenodd;stroke:#000000;stroke-width:2px;stroke-linecap:butt;stroke-linejoin:miter;stroke-opacity:1\"/>\n",
       "<path class=\"bond-9\" d=\"M 367.189,295.206 L 288.488,249.691\" style=\"fill:none;fill-rule:evenodd;stroke:#000000;stroke-width:2px;stroke-linecap:butt;stroke-linejoin:miter;stroke-opacity:1\"/>\n",
       "<path class=\"bond-10\" d=\"M 288.488,249.691 L 252.603,270.367\" style=\"fill:none;fill-rule:evenodd;stroke:#000000;stroke-width:2px;stroke-linecap:butt;stroke-linejoin:miter;stroke-opacity:1\"/>\n",
       "<path class=\"bond-10\" d=\"M 252.603,270.367 L 216.719,291.043\" style=\"fill:none;fill-rule:evenodd;stroke:#FF0000;stroke-width:2px;stroke-linecap:butt;stroke-linejoin:miter;stroke-opacity:1\"/>\n",
       "<path class=\"bond-12\" d=\"M 296.671,249.697 L 296.704,207.987\" style=\"fill:none;fill-rule:evenodd;stroke:#000000;stroke-width:2px;stroke-linecap:butt;stroke-linejoin:miter;stroke-opacity:1\"/>\n",
       "<path class=\"bond-12\" d=\"M 296.704,207.987 L 296.738,166.276\" style=\"fill:none;fill-rule:evenodd;stroke:#FF0000;stroke-width:2px;stroke-linecap:butt;stroke-linejoin:miter;stroke-opacity:1\"/>\n",
       "<path class=\"bond-12\" d=\"M 280.305,249.684 L 280.338,207.974\" style=\"fill:none;fill-rule:evenodd;stroke:#000000;stroke-width:2px;stroke-linecap:butt;stroke-linejoin:miter;stroke-opacity:1\"/>\n",
       "<path class=\"bond-12\" d=\"M 280.338,207.974 L 280.372,166.263\" style=\"fill:none;fill-rule:evenodd;stroke:#FF0000;stroke-width:2px;stroke-linecap:butt;stroke-linejoin:miter;stroke-opacity:1\"/>\n",
       "<path class=\"bond-11\" d=\"M 202.709,291.028 L 166.861,270.296\" style=\"fill:none;fill-rule:evenodd;stroke:#FF0000;stroke-width:2px;stroke-linecap:butt;stroke-linejoin:miter;stroke-opacity:1\"/>\n",
       "<path class=\"bond-11\" d=\"M 166.861,270.296 L 131.012,249.564\" style=\"fill:none;fill-rule:evenodd;stroke:#000000;stroke-width:2px;stroke-linecap:butt;stroke-linejoin:miter;stroke-opacity:1\"/>\n",
       "<text style=\"font-size:15px;font-style:normal;font-weight:normal;fill-opacity:1;stroke:none;font-family:sans-serif;text-anchor:start;fill:#FF0000\" x=\"668.563\" y=\"393.882\"><tspan>OH</tspan></text>\n",
       "<text style=\"font-size:15px;font-style:normal;font-weight:normal;fill-opacity:1;stroke:none;font-family:sans-serif;text-anchor:start;fill:#FF0000\" x=\"202.709\" y=\"302.579\"><tspan>O</tspan></text>\n",
       "<text style=\"font-size:15px;font-style:normal;font-weight:normal;fill-opacity:1;stroke:none;font-family:sans-serif;text-anchor:start;fill:#FF0000\" x=\"281.556\" y=\"166.27\"><tspan>O</tspan></text>\n",
       "<text style=\"font-size:15px;font-style:normal;font-weight:normal;fill-opacity:1;stroke:none;font-family:sans-serif;text-anchor:start;fill:#FF0000\" x=\"517.588\" y=\"393.755\"><tspan>O</tspan></text>\n",
       "</svg>"
      ],
      "text/plain": [
       "<IPython.core.display.SVG object>"
      ]
     },
     "execution_count": 6,
     "metadata": {},
     "output_type": "execute_result"
    }
   ],
   "source": [
    "SVG(p_svg)"
   ]
  },
  {
   "cell_type": "code",
   "execution_count": 7,
   "metadata": {},
   "outputs": [
    {
     "data": {
      "image/svg+xml": [
       "<svg baseProfile=\"full\" height=\"801px\" version=\"1.1\" viewBox=\"0 0 807 801\" width=\"807px\" xml:space=\"preserve\" xmlns=\"http://www.w3.org/2000/svg\" xmlns:rdkit=\"http://www.rdkit.org/xml\" xmlns:xlink=\"http://www.w3.org/1999/xlink\">\n",
       "<!-- END OF HEADER -->\n",
       "<rect height=\"801\" style=\"opacity:1.0;fill:#FFFFFF;stroke:none\" width=\"807\" x=\"0\" y=\"0\"> </rect>\n",
       "<path d=\"M 600.453,532.723 L 600.125,441.705\" style=\"fill:none;fill-rule:evenodd;stroke:#CCFFCC;stroke-width:16px;stroke-linecap:butt;stroke-linejoin:miter;stroke-opacity:1\"/>\n",
       "<path d=\"M 600.125,441.705 L 678.801,395.924\" style=\"fill:none;fill-rule:evenodd;stroke:#CCFFCC;stroke-width:16px;stroke-linecap:butt;stroke-linejoin:miter;stroke-opacity:1\"/>\n",
       "<path d=\"M 600.125,441.705 L 521.141,396.488\" style=\"fill:none;fill-rule:evenodd;stroke:#CCFFCC;stroke-width:16px;stroke-linecap:butt;stroke-linejoin:miter;stroke-opacity:1\"/>\n",
       "<path d=\"M 678.801,395.924 L 678.455,304.906\" style=\"fill:none;fill-rule:evenodd;stroke:#CCFFCC;stroke-width:16px;stroke-linecap:butt;stroke-linejoin:miter;stroke-opacity:1\"/>\n",
       "<path d=\"M 678.455,304.906 L 599.47,259.689\" style=\"fill:none;fill-rule:evenodd;stroke:#CCFFCC;stroke-width:16px;stroke-linecap:butt;stroke-linejoin:miter;stroke-opacity:1\"/>\n",
       "<path d=\"M 599.47,259.689 L 520.813,305.471\" style=\"fill:none;fill-rule:evenodd;stroke:#CCFFCC;stroke-width:16px;stroke-linecap:butt;stroke-linejoin:miter;stroke-opacity:1\"/>\n",
       "<path d=\"M 520.813,305.471 L 521.141,396.488\" style=\"fill:none;fill-rule:evenodd;stroke:#CCFFCC;stroke-width:16px;stroke-linecap:butt;stroke-linejoin:miter;stroke-opacity:1\"/>\n",
       "<path d=\"M 521.141,396.488 L 442.483,442.27\" style=\"fill:none;fill-rule:evenodd;stroke:#CCFFCC;stroke-width:16px;stroke-linecap:butt;stroke-linejoin:miter;stroke-opacity:1\"/>\n",
       "<path d=\"M 442.483,442.27 L 363.498,397.052\" style=\"fill:none;fill-rule:evenodd;stroke:#CCFFCC;stroke-width:16px;stroke-linecap:butt;stroke-linejoin:miter;stroke-opacity:1\"/>\n",
       "<path d=\"M 442.483,442.27 L 442.811,533.287\" style=\"fill:none;fill-rule:evenodd;stroke:#CCFFCC;stroke-width:16px;stroke-linecap:butt;stroke-linejoin:miter;stroke-opacity:1\"/>\n",
       "<path d=\"M 363.498,397.052 L 284.841,442.852\" style=\"fill:none;fill-rule:evenodd;stroke:#CCFFCC;stroke-width:16px;stroke-linecap:butt;stroke-linejoin:miter;stroke-opacity:1\"/>\n",
       "<path d=\"M 284.841,442.852 L 205.856,397.617\" style=\"fill:none;fill-rule:evenodd;stroke:#CCFFCC;stroke-width:16px;stroke-linecap:butt;stroke-linejoin:miter;stroke-opacity:1\"/>\n",
       "<path d=\"M 205.856,397.617 L 127.199,443.417\" style=\"fill:none;fill-rule:evenodd;stroke:#7F7FFF;stroke-width:16px;stroke-linecap:butt;stroke-linejoin:miter;stroke-opacity:1\"/>\n",
       "<path d=\"M 205.856,397.617 L 205.529,306.599\" style=\"fill:none;fill-rule:evenodd;stroke:#CCFFCC;stroke-width:16px;stroke-linecap:butt;stroke-linejoin:miter;stroke-opacity:1\"/>\n",
       "<ellipse cx=\"265.928\" cy=\"673.052\" rx=\"36.4069\" ry=\"36.4069\" style=\"fill:#FFFFFF;fill-rule:evenodd;stroke:#FFFFFF;stroke-width:1px;stroke-linecap:butt;stroke-linejoin:miter;stroke-opacity:1\"/>\n",
       "<ellipse cx=\"600.453\" cy=\"532.723\" rx=\"36.4069\" ry=\"36.4069\" style=\"fill:#CCFFCC;fill-rule:evenodd;stroke:#CCFFCC;stroke-width:1px;stroke-linecap:butt;stroke-linejoin:miter;stroke-opacity:1\"/>\n",
       "<ellipse cx=\"600.125\" cy=\"441.705\" rx=\"36.4069\" ry=\"36.4069\" style=\"fill:#CCFFCC;fill-rule:evenodd;stroke:#CCFFCC;stroke-width:1px;stroke-linecap:butt;stroke-linejoin:miter;stroke-opacity:1\"/>\n",
       "<ellipse cx=\"678.801\" cy=\"395.924\" rx=\"36.4069\" ry=\"36.4069\" style=\"fill:#CCFFCC;fill-rule:evenodd;stroke:#CCFFCC;stroke-width:1px;stroke-linecap:butt;stroke-linejoin:miter;stroke-opacity:1\"/>\n",
       "<ellipse cx=\"678.455\" cy=\"304.906\" rx=\"36.4069\" ry=\"36.4069\" style=\"fill:#CCFFCC;fill-rule:evenodd;stroke:#CCFFCC;stroke-width:1px;stroke-linecap:butt;stroke-linejoin:miter;stroke-opacity:1\"/>\n",
       "<ellipse cx=\"599.47\" cy=\"259.689\" rx=\"36.4069\" ry=\"36.4069\" style=\"fill:#CCFFCC;fill-rule:evenodd;stroke:#CCFFCC;stroke-width:1px;stroke-linecap:butt;stroke-linejoin:miter;stroke-opacity:1\"/>\n",
       "<ellipse cx=\"520.813\" cy=\"305.471\" rx=\"36.4069\" ry=\"36.4069\" style=\"fill:#CCFFCC;fill-rule:evenodd;stroke:#CCFFCC;stroke-width:1px;stroke-linecap:butt;stroke-linejoin:miter;stroke-opacity:1\"/>\n",
       "<ellipse cx=\"521.141\" cy=\"396.488\" rx=\"36.4069\" ry=\"36.4069\" style=\"fill:#CCFFCC;fill-rule:evenodd;stroke:#CCFFCC;stroke-width:1px;stroke-linecap:butt;stroke-linejoin:miter;stroke-opacity:1\"/>\n",
       "<ellipse cx=\"442.483\" cy=\"442.27\" rx=\"36.4069\" ry=\"36.4069\" style=\"fill:#CCFFCC;fill-rule:evenodd;stroke:#CCFFCC;stroke-width:1px;stroke-linecap:butt;stroke-linejoin:miter;stroke-opacity:1\"/>\n",
       "<ellipse cx=\"363.498\" cy=\"397.052\" rx=\"36.4069\" ry=\"36.4069\" style=\"fill:#CCFFCC;fill-rule:evenodd;stroke:#CCFFCC;stroke-width:1px;stroke-linecap:butt;stroke-linejoin:miter;stroke-opacity:1\"/>\n",
       "<ellipse cx=\"284.841\" cy=\"442.852\" rx=\"36.4069\" ry=\"36.4069\" style=\"fill:#CCFFCC;fill-rule:evenodd;stroke:#CCFFCC;stroke-width:1px;stroke-linecap:butt;stroke-linejoin:miter;stroke-opacity:1\"/>\n",
       "<ellipse cx=\"205.856\" cy=\"397.617\" rx=\"36.4069\" ry=\"36.4069\" style=\"fill:#CCFFCC;fill-rule:evenodd;stroke:#CCFFCC;stroke-width:1px;stroke-linecap:butt;stroke-linejoin:miter;stroke-opacity:1\"/>\n",
       "<ellipse cx=\"127.199\" cy=\"443.417\" rx=\"36.4069\" ry=\"36.4069\" style=\"fill:#7F7FFF;fill-rule:evenodd;stroke:#7F7FFF;stroke-width:1px;stroke-linecap:butt;stroke-linejoin:miter;stroke-opacity:1\"/>\n",
       "<ellipse cx=\"205.529\" cy=\"306.599\" rx=\"36.4069\" ry=\"36.4069\" style=\"fill:#CCFFCC;fill-rule:evenodd;stroke:#CCFFCC;stroke-width:1px;stroke-linecap:butt;stroke-linejoin:miter;stroke-opacity:1\"/>\n",
       "<ellipse cx=\"442.811\" cy=\"533.287\" rx=\"36.4069\" ry=\"36.4069\" style=\"fill:#CCFFCC;fill-rule:evenodd;stroke:#CCFFCC;stroke-width:1px;stroke-linecap:butt;stroke-linejoin:miter;stroke-opacity:1\"/>\n",
       "<ellipse cx=\"311.437\" cy=\"126.948\" rx=\"36.4069\" ry=\"36.4069\" style=\"fill:#7F7FFF;fill-rule:evenodd;stroke:#7F7FFF;stroke-width:1px;stroke-linecap:butt;stroke-linejoin:miter;stroke-opacity:1\"/>\n",
       "<ellipse cx=\"402.454\" cy=\"126.948\" rx=\"36.4069\" ry=\"36.4069\" style=\"fill:#FFFFFF;fill-rule:evenodd;stroke:#FFFFFF;stroke-width:1px;stroke-linecap:butt;stroke-linejoin:miter;stroke-opacity:1\"/>\n",
       "<path class=\"bond-0\" d=\"M 600.426,525.223 L 600.276,483.464\" style=\"fill:none;fill-rule:evenodd;stroke:#FF0000;stroke-width:2px;stroke-linecap:butt;stroke-linejoin:miter;stroke-opacity:1\"/>\n",
       "<path class=\"bond-0\" d=\"M 600.276,483.464 L 600.125,441.705\" style=\"fill:none;fill-rule:evenodd;stroke:#000000;stroke-width:2px;stroke-linecap:butt;stroke-linejoin:miter;stroke-opacity:1\"/>\n",
       "<path class=\"bond-1\" d=\"M 600.125,441.705 L 678.801,395.924\" style=\"fill:none;fill-rule:evenodd;stroke:#000000;stroke-width:2px;stroke-linecap:butt;stroke-linejoin:miter;stroke-opacity:1\"/>\n",
       "<path class=\"bond-1\" d=\"M 603.687,420.678 L 658.76,388.631\" style=\"fill:none;fill-rule:evenodd;stroke:#000000;stroke-width:2px;stroke-linecap:butt;stroke-linejoin:miter;stroke-opacity:1\"/>\n",
       "<path class=\"bond-14\" d=\"M 600.125,441.705 L 521.141,396.488\" style=\"fill:none;fill-rule:evenodd;stroke:#000000;stroke-width:2px;stroke-linecap:butt;stroke-linejoin:miter;stroke-opacity:1\"/>\n",
       "<path class=\"bond-2\" d=\"M 678.801,395.924 L 678.455,304.906\" style=\"fill:none;fill-rule:evenodd;stroke:#000000;stroke-width:2px;stroke-linecap:butt;stroke-linejoin:miter;stroke-opacity:1\"/>\n",
       "<path class=\"bond-3\" d=\"M 678.455,304.906 L 599.47,259.689\" style=\"fill:none;fill-rule:evenodd;stroke:#000000;stroke-width:2px;stroke-linecap:butt;stroke-linejoin:miter;stroke-opacity:1\"/>\n",
       "<path class=\"bond-3\" d=\"M 658.468,312.342 L 603.178,280.69\" style=\"fill:none;fill-rule:evenodd;stroke:#000000;stroke-width:2px;stroke-linecap:butt;stroke-linejoin:miter;stroke-opacity:1\"/>\n",
       "<path class=\"bond-4\" d=\"M 599.47,259.689 L 520.813,305.471\" style=\"fill:none;fill-rule:evenodd;stroke:#000000;stroke-width:2px;stroke-linecap:butt;stroke-linejoin:miter;stroke-opacity:1\"/>\n",
       "<path class=\"bond-5\" d=\"M 520.813,305.471 L 521.141,396.488\" style=\"fill:none;fill-rule:evenodd;stroke:#000000;stroke-width:2px;stroke-linecap:butt;stroke-linejoin:miter;stroke-opacity:1\"/>\n",
       "<path class=\"bond-5\" d=\"M 537.245,319.064 L 537.474,382.776\" style=\"fill:none;fill-rule:evenodd;stroke:#000000;stroke-width:2px;stroke-linecap:butt;stroke-linejoin:miter;stroke-opacity:1\"/>\n",
       "<path class=\"bond-6\" d=\"M 521.141,396.488 L 442.483,442.27\" style=\"fill:none;fill-rule:evenodd;stroke:#000000;stroke-width:2px;stroke-linecap:butt;stroke-linejoin:miter;stroke-opacity:1\"/>\n",
       "<path class=\"bond-7\" d=\"M 442.483,442.27 L 363.498,397.052\" style=\"fill:none;fill-rule:evenodd;stroke:#000000;stroke-width:2px;stroke-linecap:butt;stroke-linejoin:miter;stroke-opacity:1\"/>\n",
       "<path class=\"bond-12\" d=\"M 434.292,442.299 L 434.442,484.058\" style=\"fill:none;fill-rule:evenodd;stroke:#000000;stroke-width:2px;stroke-linecap:butt;stroke-linejoin:miter;stroke-opacity:1\"/>\n",
       "<path class=\"bond-12\" d=\"M 434.442,484.058 L 434.592,525.817\" style=\"fill:none;fill-rule:evenodd;stroke:#FF0000;stroke-width:2px;stroke-linecap:butt;stroke-linejoin:miter;stroke-opacity:1\"/>\n",
       "<path class=\"bond-12\" d=\"M 450.675,442.24 L 450.825,483.999\" style=\"fill:none;fill-rule:evenodd;stroke:#000000;stroke-width:2px;stroke-linecap:butt;stroke-linejoin:miter;stroke-opacity:1\"/>\n",
       "<path class=\"bond-12\" d=\"M 450.825,483.999 L 450.976,525.758\" style=\"fill:none;fill-rule:evenodd;stroke:#FF0000;stroke-width:2px;stroke-linecap:butt;stroke-linejoin:miter;stroke-opacity:1\"/>\n",
       "<path class=\"bond-8\" d=\"M 363.498,397.052 L 284.841,442.852\" style=\"fill:none;fill-rule:evenodd;stroke:#000000;stroke-width:2px;stroke-linecap:butt;stroke-linejoin:miter;stroke-opacity:1\"/>\n",
       "<path class=\"bond-9\" d=\"M 284.841,442.852 L 205.856,397.617\" style=\"fill:none;fill-rule:evenodd;stroke:#000000;stroke-width:2px;stroke-linecap:butt;stroke-linejoin:miter;stroke-opacity:1\"/>\n",
       "<path class=\"bond-10\" d=\"M 205.856,397.617 L 172.968,416.767\" style=\"fill:none;fill-rule:evenodd;stroke:#000000;stroke-width:2px;stroke-linecap:butt;stroke-linejoin:miter;stroke-opacity:1\"/>\n",
       "<path class=\"bond-10\" d=\"M 172.968,416.767 L 140.08,435.917\" style=\"fill:none;fill-rule:evenodd;stroke:#FF0000;stroke-width:2px;stroke-linecap:butt;stroke-linejoin:miter;stroke-opacity:1\"/>\n",
       "<path class=\"bond-11\" d=\"M 214.048,397.587 L 213.898,355.828\" style=\"fill:none;fill-rule:evenodd;stroke:#000000;stroke-width:2px;stroke-linecap:butt;stroke-linejoin:miter;stroke-opacity:1\"/>\n",
       "<path class=\"bond-11\" d=\"M 213.898,355.828 L 213.747,314.07\" style=\"fill:none;fill-rule:evenodd;stroke:#FF0000;stroke-width:2px;stroke-linecap:butt;stroke-linejoin:miter;stroke-opacity:1\"/>\n",
       "<path class=\"bond-11\" d=\"M 197.665,397.646 L 197.515,355.887\" style=\"fill:none;fill-rule:evenodd;stroke:#000000;stroke-width:2px;stroke-linecap:butt;stroke-linejoin:miter;stroke-opacity:1\"/>\n",
       "<path class=\"bond-11\" d=\"M 197.515,355.887 L 197.364,314.129\" style=\"fill:none;fill-rule:evenodd;stroke:#FF0000;stroke-width:2px;stroke-linecap:butt;stroke-linejoin:miter;stroke-opacity:1\"/>\n",
       "<path class=\"bond-13\" d=\"M 311.437,126.948 L 350.193,126.948\" style=\"fill:none;fill-rule:evenodd;stroke:#000000;stroke-width:2px;stroke-linecap:butt;stroke-linejoin:miter;stroke-opacity:1\"/>\n",
       "<path class=\"bond-13\" d=\"M 350.193,126.948 L 388.949,126.948\" style=\"fill:none;fill-rule:evenodd;stroke:#FF0000;stroke-width:2px;stroke-linecap:butt;stroke-linejoin:miter;stroke-opacity:1\"/>\n",
       "<text style=\"font-size:14px;font-style:normal;font-weight:normal;fill-opacity:1;stroke:none;font-family:sans-serif;text-anchor:start;fill:#00CC00\" x=\"250.928\" y=\"680.552\"><tspan>HCl</tspan></text>\n",
       "<text style=\"font-size:14px;font-style:normal;font-weight:normal;fill-opacity:1;stroke:none;font-family:sans-serif;text-anchor:start;fill:#FF0000\" x=\"586.948\" y=\"540.223\"><tspan>OH</tspan></text>\n",
       "<text style=\"font-size:14px;font-style:normal;font-weight:normal;fill-opacity:1;stroke:none;font-family:sans-serif;text-anchor:start;fill:#FF0000\" x=\"113.694\" y=\"450.917\"><tspan>HO</tspan></text>\n",
       "<text style=\"font-size:14px;font-style:normal;font-weight:normal;fill-opacity:1;stroke:none;font-family:sans-serif;text-anchor:start;fill:#FF0000\" x=\"198.524\" y=\"314.099\"><tspan>O</tspan></text>\n",
       "<text style=\"font-size:14px;font-style:normal;font-weight:normal;fill-opacity:1;stroke:none;font-family:sans-serif;text-anchor:start;fill:#FF0000\" x=\"435.806\" y=\"540.787\"><tspan>O</tspan></text>\n",
       "<text style=\"font-size:14px;font-style:normal;font-weight:normal;fill-opacity:1;stroke:none;font-family:sans-serif;text-anchor:start;fill:#FF0000\" x=\"388.949\" y=\"134.448\"><tspan>OH</tspan></text>\n",
       "</svg>"
      ],
      "text/plain": [
       "<IPython.core.display.SVG object>"
      ]
     },
     "execution_count": 7,
     "metadata": {},
     "output_type": "execute_result"
    }
   ],
   "source": [
    "SVG(r_svg)"
   ]
  },
  {
   "cell_type": "code",
   "execution_count": null,
   "metadata": {},
   "outputs": [],
   "source": []
  },
  {
   "cell_type": "code",
   "execution_count": null,
   "metadata": {},
   "outputs": [],
   "source": []
  }
 ],
 "metadata": {
  "kernelspec": {
   "display_name": "Chemistry",
   "language": "python",
   "name": "chem"
  },
  "language_info": {
   "codemirror_mode": {
    "name": "ipython",
    "version": 3
   },
   "file_extension": ".py",
   "mimetype": "text/x-python",
   "name": "python",
   "nbconvert_exporter": "python",
   "pygments_lexer": "ipython3",
   "version": "3.6.6"
  }
 },
 "nbformat": 4,
 "nbformat_minor": 2
}
