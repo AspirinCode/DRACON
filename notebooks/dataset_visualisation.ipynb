{
 "cells": [
  {
   "cell_type": "code",
   "execution_count": 1,
   "metadata": {},
   "outputs": [],
   "source": [
    "import sys\n",
    "import numpy as np\n",
    "sys.path.append('..')"
   ]
  },
  {
   "cell_type": "code",
   "execution_count": 2,
   "metadata": {},
   "outputs": [],
   "source": [
    "def prune_dataset_by_length(dataset, max_len):\n",
    "    new_dataset = {}\n",
    "    for idx in dataset:\n",
    "        r_mask = dataset[idx]['reactants']['mask']\n",
    "        r_mask = r_mask[r_mask > 0]\n",
    "        if len(dataset[idx]['target_main_product']) <= max_len and len(np.unique(r_mask)) == len(r_mask):\n",
    "            new_dataset[idx] = dataset[idx]\n",
    "    return new_dataset"
   ]
  },
  {
   "cell_type": "code",
   "execution_count": 3,
   "metadata": {},
   "outputs": [
    {
     "name": "stderr",
     "output_type": "stream",
     "text": [
      "RDKit WARNING: [22:40:33] Enabling RDKit 2019.09.3 jupyter extensions\n"
     ]
    }
   ],
   "source": [
    "import pickle\n",
    "from utils.draw_utils import draw_gt_reaction\n",
    "from rdkit.Chem.Draw import IPythonConsole\n",
    "from IPython.display import SVG, Image\n",
    "IPythonConsole.molSize = (400,400)"
   ]
  },
  {
   "cell_type": "code",
   "execution_count": 4,
   "metadata": {},
   "outputs": [],
   "source": [
    "test_dataset = pickle.load(open('../data/graphs/test.pkl', 'rb'))"
   ]
  },
  {
   "cell_type": "code",
   "execution_count": 5,
   "metadata": {},
   "outputs": [
    {
     "data": {
      "text/plain": [
       "48961"
      ]
     },
     "execution_count": 5,
     "metadata": {},
     "output_type": "execute_result"
    }
   ],
   "source": [
    "len(test_dataset)"
   ]
  },
  {
   "cell_type": "code",
   "execution_count": 6,
   "metadata": {},
   "outputs": [
    {
     "data": {
      "text/plain": [
       "{'product': {'sender': array([ 0,  1,  2,  3,  4,  5,  6,  7,  8,  9, 10, 11, 12, 13,  8,  6, 14],\n",
       "        dtype=int32),\n",
       "  'reciever': array([ 1,  2,  3,  4,  5,  6,  7,  8,  9, 10, 11, 12, 13, 14, 15,  1,  9],\n",
       "        dtype=int32),\n",
       "  'types': array(['SINGLE', 'AROMATIC', 'AROMATIC', 'AROMATIC', 'AROMATIC',\n",
       "         'AROMATIC', 'SINGLE', 'SINGLE', 'SINGLE', 'AROMATIC', 'AROMATIC',\n",
       "         'AROMATIC', 'AROMATIC', 'AROMATIC', 'SINGLE', 'AROMATIC',\n",
       "         'AROMATIC'], dtype='<U10'),\n",
       "  'nodes': array([7, 6, 6, 6, 6, 6, 6, 6, 6, 6, 6, 6, 6, 6, 7, 6], dtype=int32),\n",
       "  'features': array([[1, 3, 2, 2, 2, 2, 3, 2, 3, 3, 2, 2, 2, 2, 2, 1],\n",
       "         [3, 4, 4, 4, 4, 4, 4, 4, 4, 4, 4, 4, 4, 4, 3, 4],\n",
       "         [3, 3, 3, 3, 3, 3, 3, 4, 4, 3, 3, 3, 3, 3, 3, 4],\n",
       "         [0, 0, 0, 0, 0, 0, 0, 0, 0, 0, 0, 0, 0, 0, 0, 0],\n",
       "         [0, 1, 1, 1, 1, 1, 1, 0, 0, 1, 1, 1, 1, 1, 1, 0],\n",
       "         [1, 1, 1, 1, 1, 1, 1, 1, 1, 1, 1, 1, 1, 1, 1, 1],\n",
       "         [2, 0, 1, 1, 1, 1, 0, 2, 1, 0, 1, 1, 1, 1, 0, 3],\n",
       "         [0, 0, 0, 0, 0, 0, 0, 0, 0, 0, 0, 0, 0, 0, 0, 0],\n",
       "         [0, 1, 1, 1, 1, 1, 1, 0, 0, 1, 1, 1, 1, 1, 1, 0],\n",
       "         [0, 0, 0, 0, 0, 0, 0, 0, 0, 0, 0, 0, 0, 0, 0, 0],\n",
       "         [0, 0, 0, 0, 0, 0, 0, 0, 0, 0, 0, 0, 0, 0, 0, 0]], dtype=int32),\n",
       "  'mask': array([16, 11, 12, 13, 14, 15, 10,  2,  3,  4,  9,  8,  7,  6,  5, 19],\n",
       "        dtype=int32)},\n",
       " 'reactants': {'lengths': array([ 0, 18, 21, 22]),\n",
       "  'sender': array([ 0,  1,  2,  3,  4,  5,  6,  7,  8,  8,  1, 11, 12, 13, 14, 15, 16,\n",
       "         18, 18,  7, 17], dtype=int32),\n",
       "  'reciever': array([ 1,  2,  3,  4,  5,  6,  7,  8,  9, 10, 11, 12, 13, 14, 15, 16, 17,\n",
       "         19, 20,  2, 12], dtype=int32),\n",
       "  'types': array(['SINGLE', 'SINGLE', 'AROMATIC', 'AROMATIC', 'AROMATIC', 'AROMATIC',\n",
       "         'AROMATIC', 'SINGLE', 'SINGLE', 'DOUBLE', 'DOUBLE', 'SINGLE',\n",
       "         'AROMATIC', 'AROMATIC', 'AROMATIC', 'AROMATIC', 'AROMATIC',\n",
       "         'SINGLE', 'SINGLE', 'AROMATIC', 'AROMATIC'], dtype='<U10'),\n",
       "  'nodes': array([ 6,  6,  6,  6,  6,  6,  6,  6,  7,  8,  8,  6,  6,  6,  6,  6,  6,\n",
       "          7,  6,  8,  6, 46], dtype=int32),\n",
       "  'features': array([[ 1,  3,  3,  2,  2,  2,  2,  3,  3,  1,  1,  2,  3,  2,  2,  2,\n",
       "           2,  2,  2,  1,  1,  0],\n",
       "         [ 1,  4,  4,  4,  4,  4,  4,  4,  4,  1,  2,  4,  4,  4,  4,  4,\n",
       "           4,  3,  4,  1,  1,  0],\n",
       "         [ 4,  3,  3,  3,  3,  3,  3,  3,  3,  3,  3,  3,  3,  3,  3,  3,\n",
       "           3,  3,  4,  4,  4,  5],\n",
       "         [ 3,  0,  0,  0,  0,  0,  0,  0,  0,  0,  0,  0,  0,  0,  0,  0,\n",
       "           0,  0,  0,  1,  3,  0],\n",
       "         [ 0,  0,  1,  1,  1,  1,  1,  1,  0,  0,  0,  0,  1,  1,  1,  1,\n",
       "           1,  1,  0,  0,  0,  0],\n",
       "         [ 0,  1,  1,  1,  1,  1,  1,  1,  1,  1,  0,  1,  1,  1,  1,  1,\n",
       "           1,  1,  1,  0,  0,  1],\n",
       "         [ 0,  0,  0,  1,  1,  1,  1,  0,  0,  0,  0,  1,  0,  1,  1,  1,\n",
       "           1,  0,  2,  0,  0,  0],\n",
       "         [ 3,  0,  0,  0,  0,  0,  0,  0,  0,  0,  0,  0,  0,  0,  0,  0,\n",
       "           0,  0,  0,  1,  3,  0],\n",
       "         [ 0,  0,  1,  1,  1,  1,  1,  1,  0,  0,  0,  0,  1,  1,  1,  1,\n",
       "           1,  1,  0,  0,  0,  0],\n",
       "         [ 0,  0,  0,  0,  0,  0,  0,  0,  0,  0,  0,  0,  0,  0,  0,  0,\n",
       "           0,  0,  0,  0,  0,  0],\n",
       "         [ 0,  0,  0,  0,  0,  0,  0,  0,  1, -1,  0,  0,  0,  0,  0,  0,\n",
       "           0,  0,  0,  0,  0,  0]], dtype=int32),\n",
       "  'mask': array([ 0,  2, 10, 15, 14, 13, 12, 11, 16,  0,  0,  3,  4,  9,  8,  7,  6,\n",
       "          5, 19,  0,  0,  0], dtype=int32)},\n",
       " 'target_main_product': array([0, 1, 1, 1, 1, 1, 1, 1, 1, 0, 0, 1, 1, 1, 1, 1, 1, 1, 1, 0, 0, 0],\n",
       "       dtype=int32),\n",
       " 'target_center': array([-1,  1,  0,  0,  0,  0,  0,  0,  1, -1, -1,  1,  0,  0,  0,  0,  0,\n",
       "         0,  1, -1, -1, -1], dtype=int32),\n",
       " 'smarts': 'C[C:2]([C:10]1[CH:15]=[CH:14][CH:13]=[CH:12][C:11]=1[N+:16]([O-])=O)=[CH:3][C:4]1[CH:9]=[CH:8][CH:7]=[CH:6][N:5]=1.[CH2:19](O)C>[Pd]>[NH2:16][C:11]1[CH:12]=[CH:13][CH:14]=[CH:15][C:10]=1[CH2:2][CH:3]([C:4]1[CH:9]=[CH:8][CH:7]=[CH:6][N:5]=1)[CH3:19]',\n",
       " 'smiles': 'CC(=Cc1ccccn1)c1ccccc1[N+](=O)[O-].CCO>[Pd]>CC(Cc1ccccc1N)c1ccccn1'}"
      ]
     },
     "execution_count": 6,
     "metadata": {},
     "output_type": "execute_result"
    }
   ],
   "source": [
    "idx = 12\n",
    "data = test_dataset[idx]\n",
    "data"
   ]
  },
  {
   "cell_type": "code",
   "execution_count": 7,
   "metadata": {},
   "outputs": [],
   "source": [
    "feat  = data['reactants']['features']\n",
    "tar = data['target_main_product']"
   ]
  },
  {
   "cell_type": "code",
   "execution_count": 8,
   "metadata": {},
   "outputs": [],
   "source": [
    "p_svg, r_svg = draw_gt_reaction(data)"
   ]
  },
  {
   "cell_type": "code",
   "execution_count": 9,
   "metadata": {},
   "outputs": [
    {
     "data": {
      "image/svg+xml": [
       "<svg baseProfile=\"full\" height=\"552px\" version=\"1.1\" viewBox=\"0 0 807 552\" width=\"807px\" xml:space=\"preserve\" xmlns=\"http://www.w3.org/2000/svg\" xmlns:rdkit=\"http://www.rdkit.org/xml\" xmlns:xlink=\"http://www.w3.org/1999/xlink\">\n",
       "<!-- END OF HEADER -->\n",
       "<rect height=\"552\" style=\"opacity:1.0;fill:#FFFFFF;stroke:none\" width=\"807\" x=\"0\" y=\"0\"> </rect>\n",
       "<path d=\"M 600.392,162.988 L 600.064,253.973\" style=\"fill:none;fill-rule:evenodd;stroke:#FFB2B2;stroke-width:16px;stroke-linecap:butt;stroke-linejoin:miter;stroke-opacity:1\"/>\n",
       "<path d=\"M 600.064,253.973 L 678.693,299.738\" style=\"fill:none;fill-rule:evenodd;stroke:#B2FFB2;stroke-width:16px;stroke-linecap:butt;stroke-linejoin:miter;stroke-opacity:1\"/>\n",
       "<path d=\"M 600.064,253.973 L 521.108,299.174\" style=\"fill:none;fill-rule:evenodd;stroke:#B2FFB2;stroke-width:16px;stroke-linecap:butt;stroke-linejoin:miter;stroke-opacity:1\"/>\n",
       "<path d=\"M 678.693,299.738 L 678.366,390.723\" style=\"fill:none;fill-rule:evenodd;stroke:#B2FFB2;stroke-width:16px;stroke-linecap:butt;stroke-linejoin:miter;stroke-opacity:1\"/>\n",
       "<path d=\"M 678.366,390.723 L 599.409,435.924\" style=\"fill:none;fill-rule:evenodd;stroke:#B2FFB2;stroke-width:16px;stroke-linecap:butt;stroke-linejoin:miter;stroke-opacity:1\"/>\n",
       "<path d=\"M 599.409,435.924 L 520.78,390.159\" style=\"fill:none;fill-rule:evenodd;stroke:#B2FFB2;stroke-width:16px;stroke-linecap:butt;stroke-linejoin:miter;stroke-opacity:1\"/>\n",
       "<path d=\"M 520.78,390.159 L 521.108,299.174\" style=\"fill:none;fill-rule:evenodd;stroke:#B2FFB2;stroke-width:16px;stroke-linecap:butt;stroke-linejoin:miter;stroke-opacity:1\"/>\n",
       "<path d=\"M 521.108,299.174 L 442.478,253.39\" style=\"fill:none;fill-rule:evenodd;stroke:#FFB2B2;stroke-width:16px;stroke-linecap:butt;stroke-linejoin:miter;stroke-opacity:1\"/>\n",
       "<path d=\"M 442.478,253.39 L 363.522,298.61\" style=\"fill:none;fill-rule:evenodd;stroke:#FFB2B2;stroke-width:16px;stroke-linecap:butt;stroke-linejoin:miter;stroke-opacity:1\"/>\n",
       "<path d=\"M 363.522,298.61 L 284.892,252.826\" style=\"fill:none;fill-rule:evenodd;stroke:#FFB2B2;stroke-width:16px;stroke-linecap:butt;stroke-linejoin:miter;stroke-opacity:1\"/>\n",
       "<path d=\"M 363.522,298.61 L 363.194,389.595\" style=\"fill:none;fill-rule:evenodd;stroke:#FFB2B2;stroke-width:16px;stroke-linecap:butt;stroke-linejoin:miter;stroke-opacity:1\"/>\n",
       "<path d=\"M 284.892,252.826 L 285.22,161.841\" style=\"fill:none;fill-rule:evenodd;stroke:#B2FFB2;stroke-width:16px;stroke-linecap:butt;stroke-linejoin:miter;stroke-opacity:1\"/>\n",
       "<path d=\"M 284.892,252.826 L 205.936,298.046\" style=\"fill:none;fill-rule:evenodd;stroke:#B2FFB2;stroke-width:16px;stroke-linecap:butt;stroke-linejoin:miter;stroke-opacity:1\"/>\n",
       "<path d=\"M 285.22,161.841 L 206.591,116.076\" style=\"fill:none;fill-rule:evenodd;stroke:#B2FFB2;stroke-width:16px;stroke-linecap:butt;stroke-linejoin:miter;stroke-opacity:1\"/>\n",
       "<path d=\"M 206.591,116.076 L 127.634,161.277\" style=\"fill:none;fill-rule:evenodd;stroke:#B2FFB2;stroke-width:16px;stroke-linecap:butt;stroke-linejoin:miter;stroke-opacity:1\"/>\n",
       "<path d=\"M 127.634,161.277 L 127.307,252.262\" style=\"fill:none;fill-rule:evenodd;stroke:#B2FFB2;stroke-width:16px;stroke-linecap:butt;stroke-linejoin:miter;stroke-opacity:1\"/>\n",
       "<path d=\"M 127.307,252.262 L 205.936,298.046\" style=\"fill:none;fill-rule:evenodd;stroke:#B2FFB2;stroke-width:16px;stroke-linecap:butt;stroke-linejoin:miter;stroke-opacity:1\"/>\n",
       "<ellipse cx=\"600.392\" cy=\"162.988\" rx=\"36.394\" ry=\"36.394\" style=\"fill:#FFB2B2;fill-rule:evenodd;stroke:#FFB2B2;stroke-width:1px;stroke-linecap:butt;stroke-linejoin:miter;stroke-opacity:1\"/>\n",
       "<ellipse cx=\"600.064\" cy=\"253.973\" rx=\"36.394\" ry=\"36.394\" style=\"fill:#B2FFB2;fill-rule:evenodd;stroke:#B2FFB2;stroke-width:1px;stroke-linecap:butt;stroke-linejoin:miter;stroke-opacity:1\"/>\n",
       "<ellipse cx=\"678.693\" cy=\"299.738\" rx=\"36.394\" ry=\"36.394\" style=\"fill:#B2FFB2;fill-rule:evenodd;stroke:#B2FFB2;stroke-width:1px;stroke-linecap:butt;stroke-linejoin:miter;stroke-opacity:1\"/>\n",
       "<ellipse cx=\"678.366\" cy=\"390.723\" rx=\"36.394\" ry=\"36.394\" style=\"fill:#B2FFB2;fill-rule:evenodd;stroke:#B2FFB2;stroke-width:1px;stroke-linecap:butt;stroke-linejoin:miter;stroke-opacity:1\"/>\n",
       "<ellipse cx=\"599.409\" cy=\"435.924\" rx=\"36.394\" ry=\"36.394\" style=\"fill:#B2FFB2;fill-rule:evenodd;stroke:#B2FFB2;stroke-width:1px;stroke-linecap:butt;stroke-linejoin:miter;stroke-opacity:1\"/>\n",
       "<ellipse cx=\"520.78\" cy=\"390.159\" rx=\"36.394\" ry=\"36.394\" style=\"fill:#B2FFB2;fill-rule:evenodd;stroke:#B2FFB2;stroke-width:1px;stroke-linecap:butt;stroke-linejoin:miter;stroke-opacity:1\"/>\n",
       "<ellipse cx=\"521.108\" cy=\"299.174\" rx=\"36.394\" ry=\"36.394\" style=\"fill:#B2FFB2;fill-rule:evenodd;stroke:#B2FFB2;stroke-width:1px;stroke-linecap:butt;stroke-linejoin:miter;stroke-opacity:1\"/>\n",
       "<ellipse cx=\"442.478\" cy=\"253.39\" rx=\"36.394\" ry=\"36.394\" style=\"fill:#FFB2B2;fill-rule:evenodd;stroke:#FFB2B2;stroke-width:1px;stroke-linecap:butt;stroke-linejoin:miter;stroke-opacity:1\"/>\n",
       "<ellipse cx=\"363.522\" cy=\"298.61\" rx=\"36.394\" ry=\"36.394\" style=\"fill:#FFB2B2;fill-rule:evenodd;stroke:#FFB2B2;stroke-width:1px;stroke-linecap:butt;stroke-linejoin:miter;stroke-opacity:1\"/>\n",
       "<ellipse cx=\"284.892\" cy=\"252.826\" rx=\"36.394\" ry=\"36.394\" style=\"fill:#B2FFB2;fill-rule:evenodd;stroke:#B2FFB2;stroke-width:1px;stroke-linecap:butt;stroke-linejoin:miter;stroke-opacity:1\"/>\n",
       "<ellipse cx=\"285.22\" cy=\"161.841\" rx=\"36.394\" ry=\"36.394\" style=\"fill:#B2FFB2;fill-rule:evenodd;stroke:#B2FFB2;stroke-width:1px;stroke-linecap:butt;stroke-linejoin:miter;stroke-opacity:1\"/>\n",
       "<ellipse cx=\"206.591\" cy=\"116.076\" rx=\"36.394\" ry=\"36.394\" style=\"fill:#B2FFB2;fill-rule:evenodd;stroke:#B2FFB2;stroke-width:1px;stroke-linecap:butt;stroke-linejoin:miter;stroke-opacity:1\"/>\n",
       "<ellipse cx=\"127.634\" cy=\"161.277\" rx=\"36.394\" ry=\"36.394\" style=\"fill:#B2FFB2;fill-rule:evenodd;stroke:#B2FFB2;stroke-width:1px;stroke-linecap:butt;stroke-linejoin:miter;stroke-opacity:1\"/>\n",
       "<ellipse cx=\"127.307\" cy=\"252.262\" rx=\"36.394\" ry=\"36.394\" style=\"fill:#B2FFB2;fill-rule:evenodd;stroke:#B2FFB2;stroke-width:1px;stroke-linecap:butt;stroke-linejoin:miter;stroke-opacity:1\"/>\n",
       "<ellipse cx=\"205.936\" cy=\"298.046\" rx=\"36.394\" ry=\"36.394\" style=\"fill:#B2FFB2;fill-rule:evenodd;stroke:#B2FFB2;stroke-width:1px;stroke-linecap:butt;stroke-linejoin:miter;stroke-opacity:1\"/>\n",
       "<ellipse cx=\"363.194\" cy=\"389.595\" rx=\"36.394\" ry=\"36.394\" style=\"fill:#FFB2B2;fill-rule:evenodd;stroke:#FFB2B2;stroke-width:1px;stroke-linecap:butt;stroke-linejoin:miter;stroke-opacity:1\"/>\n",
       "<path class=\"bond-0\" d=\"M 600.362,171.238 L 600.213,212.605\" style=\"fill:none;fill-rule:evenodd;stroke:#0000FF;stroke-width:2px;stroke-linecap:butt;stroke-linejoin:miter;stroke-opacity:1\"/>\n",
       "<path class=\"bond-0\" d=\"M 600.213,212.605 L 600.064,253.973\" style=\"fill:none;fill-rule:evenodd;stroke:#000000;stroke-width:2px;stroke-linecap:butt;stroke-linejoin:miter;stroke-opacity:1\"/>\n",
       "<path class=\"bond-1\" d=\"M 600.064,253.973 L 678.693,299.738\" style=\"fill:none;fill-rule:evenodd;stroke:#000000;stroke-width:2px;stroke-linecap:butt;stroke-linejoin:miter;stroke-opacity:1\"/>\n",
       "<path class=\"bond-1\" d=\"M 603.62,274.992 L 658.661,307.027\" style=\"fill:none;fill-rule:evenodd;stroke:#000000;stroke-width:2px;stroke-linecap:butt;stroke-linejoin:miter;stroke-opacity:1\"/>\n",
       "<path class=\"bond-15\" d=\"M 600.064,253.973 L 521.108,299.174\" style=\"fill:none;fill-rule:evenodd;stroke:#000000;stroke-width:2px;stroke-linecap:butt;stroke-linejoin:miter;stroke-opacity:1\"/>\n",
       "<path class=\"bond-2\" d=\"M 678.693,299.738 L 678.366,390.723\" style=\"fill:none;fill-rule:evenodd;stroke:#000000;stroke-width:2px;stroke-linecap:butt;stroke-linejoin:miter;stroke-opacity:1\"/>\n",
       "<path class=\"bond-3\" d=\"M 678.366,390.723 L 599.409,435.924\" style=\"fill:none;fill-rule:evenodd;stroke:#000000;stroke-width:2px;stroke-linecap:butt;stroke-linejoin:miter;stroke-opacity:1\"/>\n",
       "<path class=\"bond-3\" d=\"M 658.386,383.29 L 603.116,414.931\" style=\"fill:none;fill-rule:evenodd;stroke:#000000;stroke-width:2px;stroke-linecap:butt;stroke-linejoin:miter;stroke-opacity:1\"/>\n",
       "<path class=\"bond-4\" d=\"M 599.409,435.924 L 520.78,390.159\" style=\"fill:none;fill-rule:evenodd;stroke:#000000;stroke-width:2px;stroke-linecap:butt;stroke-linejoin:miter;stroke-opacity:1\"/>\n",
       "<path class=\"bond-5\" d=\"M 520.78,390.159 L 521.108,299.174\" style=\"fill:none;fill-rule:evenodd;stroke:#000000;stroke-width:2px;stroke-linecap:butt;stroke-linejoin:miter;stroke-opacity:1\"/>\n",
       "<path class=\"bond-5\" d=\"M 537.206,376.57 L 537.436,312.881\" style=\"fill:none;fill-rule:evenodd;stroke:#000000;stroke-width:2px;stroke-linecap:butt;stroke-linejoin:miter;stroke-opacity:1\"/>\n",
       "<path class=\"bond-6\" d=\"M 521.108,299.174 L 442.478,253.39\" style=\"fill:none;fill-rule:evenodd;stroke:#000000;stroke-width:2px;stroke-linecap:butt;stroke-linejoin:miter;stroke-opacity:1\"/>\n",
       "<path class=\"bond-7\" d=\"M 442.478,253.39 L 363.522,298.61\" style=\"fill:none;fill-rule:evenodd;stroke:#000000;stroke-width:2px;stroke-linecap:butt;stroke-linejoin:miter;stroke-opacity:1\"/>\n",
       "<path class=\"bond-8\" d=\"M 363.522,298.61 L 284.892,252.826\" style=\"fill:none;fill-rule:evenodd;stroke:#000000;stroke-width:2px;stroke-linecap:butt;stroke-linejoin:miter;stroke-opacity:1\"/>\n",
       "<path class=\"bond-14\" d=\"M 363.522,298.61 L 363.194,389.595\" style=\"fill:none;fill-rule:evenodd;stroke:#000000;stroke-width:2px;stroke-linecap:butt;stroke-linejoin:miter;stroke-opacity:1\"/>\n",
       "<path class=\"bond-9\" d=\"M 284.892,252.826 L 285.22,161.841\" style=\"fill:none;fill-rule:evenodd;stroke:#000000;stroke-width:2px;stroke-linecap:butt;stroke-linejoin:miter;stroke-opacity:1\"/>\n",
       "<path class=\"bond-9\" d=\"M 268.564,239.119 L 268.794,175.43\" style=\"fill:none;fill-rule:evenodd;stroke:#000000;stroke-width:2px;stroke-linecap:butt;stroke-linejoin:miter;stroke-opacity:1\"/>\n",
       "<path class=\"bond-16\" d=\"M 284.892,252.826 L 248.664,273.574\" style=\"fill:none;fill-rule:evenodd;stroke:#000000;stroke-width:2px;stroke-linecap:butt;stroke-linejoin:miter;stroke-opacity:1\"/>\n",
       "<path class=\"bond-16\" d=\"M 248.664,273.574 L 212.436,294.323\" style=\"fill:none;fill-rule:evenodd;stroke:#0000FF;stroke-width:2px;stroke-linecap:butt;stroke-linejoin:miter;stroke-opacity:1\"/>\n",
       "<path class=\"bond-10\" d=\"M 285.22,161.841 L 206.591,116.076\" style=\"fill:none;fill-rule:evenodd;stroke:#000000;stroke-width:2px;stroke-linecap:butt;stroke-linejoin:miter;stroke-opacity:1\"/>\n",
       "<path class=\"bond-11\" d=\"M 206.591,116.076 L 127.634,161.277\" style=\"fill:none;fill-rule:evenodd;stroke:#000000;stroke-width:2px;stroke-linecap:butt;stroke-linejoin:miter;stroke-opacity:1\"/>\n",
       "<path class=\"bond-11\" d=\"M 202.884,137.069 L 147.614,168.71\" style=\"fill:none;fill-rule:evenodd;stroke:#000000;stroke-width:2px;stroke-linecap:butt;stroke-linejoin:miter;stroke-opacity:1\"/>\n",
       "<path class=\"bond-12\" d=\"M 127.634,161.277 L 127.307,252.262\" style=\"fill:none;fill-rule:evenodd;stroke:#000000;stroke-width:2px;stroke-linecap:butt;stroke-linejoin:miter;stroke-opacity:1\"/>\n",
       "<path class=\"bond-13\" d=\"M 127.307,252.262 L 163.371,273.261\" style=\"fill:none;fill-rule:evenodd;stroke:#000000;stroke-width:2px;stroke-linecap:butt;stroke-linejoin:miter;stroke-opacity:1\"/>\n",
       "<path class=\"bond-13\" d=\"M 163.371,273.261 L 199.435,294.261\" style=\"fill:none;fill-rule:evenodd;stroke:#0000FF;stroke-width:2px;stroke-linecap:butt;stroke-linejoin:miter;stroke-opacity:1\"/>\n",
       "<path class=\"bond-13\" d=\"M 146.367,244.409 L 171.612,259.108\" style=\"fill:none;fill-rule:evenodd;stroke:#000000;stroke-width:2px;stroke-linecap:butt;stroke-linejoin:miter;stroke-opacity:1\"/>\n",
       "<path class=\"bond-13\" d=\"M 171.612,259.108 L 196.857,273.808\" style=\"fill:none;fill-rule:evenodd;stroke:#0000FF;stroke-width:2px;stroke-linecap:butt;stroke-linejoin:miter;stroke-opacity:1\"/>\n",
       "<text style=\"font-size:15px;font-style:normal;font-weight:normal;fill-opacity:1;stroke:none;font-family:sans-serif;text-anchor:start;fill:#0000FF\" x=\"584.888\" y=\"171.238\"><tspan>NH</tspan><tspan style=\"baseline-shift:sub;font-size:11.25px;\">2</tspan><tspan/></text>\n",
       "<text style=\"font-size:15px;font-style:normal;font-weight:normal;fill-opacity:1;stroke:none;font-family:sans-serif;text-anchor:start;fill:#0000FF\" x=\"199.435\" y=\"305.546\"><tspan>N</tspan></text>\n",
       "</svg>"
      ],
      "text/plain": [
       "<IPython.core.display.SVG object>"
      ]
     },
     "execution_count": 9,
     "metadata": {},
     "output_type": "execute_result"
    }
   ],
   "source": [
    "SVG(p_svg)"
   ]
  },
  {
   "cell_type": "code",
   "execution_count": 11,
   "metadata": {},
   "outputs": [
    {
     "data": {
      "image/svg+xml": [
       "<svg baseProfile=\"full\" height=\"850px\" version=\"1.1\" viewBox=\"0 0 887 850\" width=\"887px\" xml:space=\"preserve\" xmlns=\"http://www.w3.org/2000/svg\" xmlns:rdkit=\"http://www.rdkit.org/xml\" xmlns:xlink=\"http://www.w3.org/1999/xlink\">\n",
       "<!-- END OF HEADER -->\n",
       "<rect height=\"850\" style=\"opacity:1.0;fill:#FFFFFF;stroke:none\" width=\"887\" x=\"0\" y=\"0\"> </rect>\n",
       "<path d=\"M 486.737,447.65 L 486.555,538.579\" style=\"fill:none;fill-rule:evenodd;stroke:#FFB2B2;stroke-width:16px;stroke-linecap:butt;stroke-linejoin:miter;stroke-opacity:1\"/>\n",
       "<path d=\"M 486.737,447.65 L 565.571,402.35\" style=\"fill:none;fill-rule:evenodd;stroke:#FFB2B2;stroke-width:16px;stroke-linecap:butt;stroke-linejoin:miter;stroke-opacity:1\"/>\n",
       "<path d=\"M 486.555,538.579 L 565.208,584.206\" style=\"fill:none;fill-rule:evenodd;stroke:#B2FFB2;stroke-width:16px;stroke-linecap:butt;stroke-linejoin:miter;stroke-opacity:1\"/>\n",
       "<path d=\"M 486.555,538.579 L 407.702,583.879\" style=\"fill:none;fill-rule:evenodd;stroke:#B2FFB2;stroke-width:16px;stroke-linecap:butt;stroke-linejoin:miter;stroke-opacity:1\"/>\n",
       "<path d=\"M 565.208,584.206 L 565.026,675.135\" style=\"fill:none;fill-rule:evenodd;stroke:#B2FFB2;stroke-width:16px;stroke-linecap:butt;stroke-linejoin:miter;stroke-opacity:1\"/>\n",
       "<path d=\"M 565.026,675.135 L 486.173,720.435\" style=\"fill:none;fill-rule:evenodd;stroke:#B2FFB2;stroke-width:16px;stroke-linecap:butt;stroke-linejoin:miter;stroke-opacity:1\"/>\n",
       "<path d=\"M 486.173,720.435 L 407.52,674.807\" style=\"fill:none;fill-rule:evenodd;stroke:#B2FFB2;stroke-width:16px;stroke-linecap:butt;stroke-linejoin:miter;stroke-opacity:1\"/>\n",
       "<path d=\"M 407.52,674.807 L 407.702,583.879\" style=\"fill:none;fill-rule:evenodd;stroke:#B2FFB2;stroke-width:16px;stroke-linecap:butt;stroke-linejoin:miter;stroke-opacity:1\"/>\n",
       "<path d=\"M 407.702,583.879 L 329.049,538.269\" style=\"fill:none;fill-rule:evenodd;stroke:#FFB2B2;stroke-width:16px;stroke-linecap:butt;stroke-linejoin:miter;stroke-opacity:1\"/>\n",
       "<path d=\"M 565.571,402.35 L 565.753,311.421\" style=\"fill:none;fill-rule:evenodd;stroke:#FFB2B2;stroke-width:16px;stroke-linecap:butt;stroke-linejoin:miter;stroke-opacity:1\"/>\n",
       "<path d=\"M 565.753,311.421 L 487.1,265.794\" style=\"fill:none;fill-rule:evenodd;stroke:#B2FFB2;stroke-width:16px;stroke-linecap:butt;stroke-linejoin:miter;stroke-opacity:1\"/>\n",
       "<path d=\"M 565.753,311.421 L 644.588,266.121\" style=\"fill:none;fill-rule:evenodd;stroke:#B2FFB2;stroke-width:16px;stroke-linecap:butt;stroke-linejoin:miter;stroke-opacity:1\"/>\n",
       "<path d=\"M 487.1,265.794 L 487.282,174.883\" style=\"fill:none;fill-rule:evenodd;stroke:#B2FFB2;stroke-width:16px;stroke-linecap:butt;stroke-linejoin:miter;stroke-opacity:1\"/>\n",
       "<path d=\"M 487.282,174.883 L 566.117,129.565\" style=\"fill:none;fill-rule:evenodd;stroke:#B2FFB2;stroke-width:16px;stroke-linecap:butt;stroke-linejoin:miter;stroke-opacity:1\"/>\n",
       "<path d=\"M 566.117,129.565 L 644.77,175.193\" style=\"fill:none;fill-rule:evenodd;stroke:#B2FFB2;stroke-width:16px;stroke-linecap:butt;stroke-linejoin:miter;stroke-opacity:1\"/>\n",
       "<path d=\"M 644.77,175.193 L 644.588,266.121\" style=\"fill:none;fill-rule:evenodd;stroke:#B2FFB2;stroke-width:16px;stroke-linecap:butt;stroke-linejoin:miter;stroke-opacity:1\"/>\n",
       "<ellipse cx=\"486.737\" cy=\"447.65\" rx=\"36.3713\" ry=\"36.3713\" style=\"fill:#FFB2B2;fill-rule:evenodd;stroke:#FFB2B2;stroke-width:1px;stroke-linecap:butt;stroke-linejoin:miter;stroke-opacity:1\"/>\n",
       "<ellipse cx=\"486.555\" cy=\"538.579\" rx=\"36.3713\" ry=\"36.3713\" style=\"fill:#B2FFB2;fill-rule:evenodd;stroke:#B2FFB2;stroke-width:1px;stroke-linecap:butt;stroke-linejoin:miter;stroke-opacity:1\"/>\n",
       "<ellipse cx=\"565.208\" cy=\"584.206\" rx=\"36.3713\" ry=\"36.3713\" style=\"fill:#B2FFB2;fill-rule:evenodd;stroke:#B2FFB2;stroke-width:1px;stroke-linecap:butt;stroke-linejoin:miter;stroke-opacity:1\"/>\n",
       "<ellipse cx=\"565.026\" cy=\"675.135\" rx=\"36.3713\" ry=\"36.3713\" style=\"fill:#B2FFB2;fill-rule:evenodd;stroke:#B2FFB2;stroke-width:1px;stroke-linecap:butt;stroke-linejoin:miter;stroke-opacity:1\"/>\n",
       "<ellipse cx=\"486.173\" cy=\"720.435\" rx=\"36.3713\" ry=\"36.3713\" style=\"fill:#B2FFB2;fill-rule:evenodd;stroke:#B2FFB2;stroke-width:1px;stroke-linecap:butt;stroke-linejoin:miter;stroke-opacity:1\"/>\n",
       "<ellipse cx=\"407.52\" cy=\"674.807\" rx=\"36.3713\" ry=\"36.3713\" style=\"fill:#B2FFB2;fill-rule:evenodd;stroke:#B2FFB2;stroke-width:1px;stroke-linecap:butt;stroke-linejoin:miter;stroke-opacity:1\"/>\n",
       "<ellipse cx=\"407.702\" cy=\"583.879\" rx=\"36.3713\" ry=\"36.3713\" style=\"fill:#B2FFB2;fill-rule:evenodd;stroke:#B2FFB2;stroke-width:1px;stroke-linecap:butt;stroke-linejoin:miter;stroke-opacity:1\"/>\n",
       "<ellipse cx=\"329.049\" cy=\"538.269\" rx=\"36.3713\" ry=\"36.3713\" style=\"fill:#FFB2B2;fill-rule:evenodd;stroke:#FFB2B2;stroke-width:1px;stroke-linecap:butt;stroke-linejoin:miter;stroke-opacity:1\"/>\n",
       "<ellipse cx=\"565.571\" cy=\"402.35\" rx=\"36.3713\" ry=\"36.3713\" style=\"fill:#FFB2B2;fill-rule:evenodd;stroke:#FFB2B2;stroke-width:1px;stroke-linecap:butt;stroke-linejoin:miter;stroke-opacity:1\"/>\n",
       "<ellipse cx=\"565.753\" cy=\"311.421\" rx=\"36.3713\" ry=\"36.3713\" style=\"fill:#B2FFB2;fill-rule:evenodd;stroke:#B2FFB2;stroke-width:1px;stroke-linecap:butt;stroke-linejoin:miter;stroke-opacity:1\"/>\n",
       "<ellipse cx=\"487.1\" cy=\"265.794\" rx=\"36.3713\" ry=\"36.3713\" style=\"fill:#B2FFB2;fill-rule:evenodd;stroke:#B2FFB2;stroke-width:1px;stroke-linecap:butt;stroke-linejoin:miter;stroke-opacity:1\"/>\n",
       "<ellipse cx=\"487.282\" cy=\"174.883\" rx=\"36.3713\" ry=\"36.3713\" style=\"fill:#B2FFB2;fill-rule:evenodd;stroke:#B2FFB2;stroke-width:1px;stroke-linecap:butt;stroke-linejoin:miter;stroke-opacity:1\"/>\n",
       "<ellipse cx=\"566.117\" cy=\"129.565\" rx=\"36.3713\" ry=\"36.3713\" style=\"fill:#B2FFB2;fill-rule:evenodd;stroke:#B2FFB2;stroke-width:1px;stroke-linecap:butt;stroke-linejoin:miter;stroke-opacity:1\"/>\n",
       "<ellipse cx=\"644.77\" cy=\"175.193\" rx=\"36.3713\" ry=\"36.3713\" style=\"fill:#B2FFB2;fill-rule:evenodd;stroke:#B2FFB2;stroke-width:1px;stroke-linecap:butt;stroke-linejoin:miter;stroke-opacity:1\"/>\n",
       "<ellipse cx=\"644.588\" cy=\"266.121\" rx=\"36.3713\" ry=\"36.3713\" style=\"fill:#B2FFB2;fill-rule:evenodd;stroke:#B2FFB2;stroke-width:1px;stroke-linecap:butt;stroke-linejoin:miter;stroke-opacity:1\"/>\n",
       "<ellipse cx=\"209.623\" cy=\"144.515\" rx=\"36.3713\" ry=\"36.3713\" style=\"fill:#FFB2B2;fill-rule:evenodd;stroke:#FFB2B2;stroke-width:1px;stroke-linecap:butt;stroke-linejoin:miter;stroke-opacity:1\"/>\n",
       "<path class=\"bond-0\" d=\"M 408.084,402.041 L 486.737,447.65\" style=\"fill:none;fill-rule:evenodd;stroke:#000000;stroke-width:2px;stroke-linecap:butt;stroke-linejoin:miter;stroke-opacity:1\"/>\n",
       "<path class=\"bond-1\" d=\"M 486.737,447.65 L 486.555,538.579\" style=\"fill:none;fill-rule:evenodd;stroke:#000000;stroke-width:2px;stroke-linecap:butt;stroke-linejoin:miter;stroke-opacity:1\"/>\n",
       "<path class=\"bond-10\" d=\"M 486.737,447.65 L 565.571,402.35\" style=\"fill:none;fill-rule:evenodd;stroke:#000000;stroke-width:2px;stroke-linecap:butt;stroke-linejoin:miter;stroke-opacity:1\"/>\n",
       "<path class=\"bond-10\" d=\"M 490.407,426.664 L 545.592,394.954\" style=\"fill:none;fill-rule:evenodd;stroke:#000000;stroke-width:2px;stroke-linecap:butt;stroke-linejoin:miter;stroke-opacity:1\"/>\n",
       "<path class=\"bond-2\" d=\"M 486.555,538.579 L 565.208,584.206\" style=\"fill:none;fill-rule:evenodd;stroke:#000000;stroke-width:2px;stroke-linecap:butt;stroke-linejoin:miter;stroke-opacity:1\"/>\n",
       "<path class=\"bond-2\" d=\"M 490.14,559.58 L 545.197,591.52\" style=\"fill:none;fill-rule:evenodd;stroke:#000000;stroke-width:2px;stroke-linecap:butt;stroke-linejoin:miter;stroke-opacity:1\"/>\n",
       "<path class=\"bond-19\" d=\"M 486.555,538.579 L 407.702,583.879\" style=\"fill:none;fill-rule:evenodd;stroke:#000000;stroke-width:2px;stroke-linecap:butt;stroke-linejoin:miter;stroke-opacity:1\"/>\n",
       "<path class=\"bond-3\" d=\"M 565.208,584.206 L 565.026,675.135\" style=\"fill:none;fill-rule:evenodd;stroke:#000000;stroke-width:2px;stroke-linecap:butt;stroke-linejoin:miter;stroke-opacity:1\"/>\n",
       "<path class=\"bond-4\" d=\"M 565.026,675.135 L 486.173,720.435\" style=\"fill:none;fill-rule:evenodd;stroke:#000000;stroke-width:2px;stroke-linecap:butt;stroke-linejoin:miter;stroke-opacity:1\"/>\n",
       "<path class=\"bond-4\" d=\"M 545.045,667.738 L 489.848,699.448\" style=\"fill:none;fill-rule:evenodd;stroke:#000000;stroke-width:2px;stroke-linecap:butt;stroke-linejoin:miter;stroke-opacity:1\"/>\n",
       "<path class=\"bond-5\" d=\"M 486.173,720.435 L 407.52,674.807\" style=\"fill:none;fill-rule:evenodd;stroke:#000000;stroke-width:2px;stroke-linecap:butt;stroke-linejoin:miter;stroke-opacity:1\"/>\n",
       "<path class=\"bond-6\" d=\"M 407.52,674.807 L 407.702,583.879\" style=\"fill:none;fill-rule:evenodd;stroke:#000000;stroke-width:2px;stroke-linecap:butt;stroke-linejoin:miter;stroke-opacity:1\"/>\n",
       "<path class=\"bond-6\" d=\"M 423.914,661.201 L 424.041,597.551\" style=\"fill:none;fill-rule:evenodd;stroke:#000000;stroke-width:2px;stroke-linecap:butt;stroke-linejoin:miter;stroke-opacity:1\"/>\n",
       "<path class=\"bond-7\" d=\"M 407.702,583.879 L 372.94,563.721\" style=\"fill:none;fill-rule:evenodd;stroke:#000000;stroke-width:2px;stroke-linecap:butt;stroke-linejoin:miter;stroke-opacity:1\"/>\n",
       "<path class=\"bond-7\" d=\"M 372.94,563.721 L 338.178,543.564\" style=\"fill:none;fill-rule:evenodd;stroke:#0000FF;stroke-width:2px;stroke-linecap:butt;stroke-linejoin:miter;stroke-opacity:1\"/>\n",
       "<path class=\"bond-8\" d=\"M 319.919,543.516 L 289.318,561.099\" style=\"fill:none;fill-rule:evenodd;stroke:#0000FF;stroke-width:2px;stroke-linecap:butt;stroke-linejoin:miter;stroke-opacity:1\"/>\n",
       "<path class=\"bond-8\" d=\"M 289.318,561.099 L 258.718,578.683\" style=\"fill:none;fill-rule:evenodd;stroke:#FF0000;stroke-width:2px;stroke-linecap:butt;stroke-linejoin:miter;stroke-opacity:1\"/>\n",
       "<path class=\"bond-9\" d=\"M 337.25,530.037 L 337.333,492.448\" style=\"fill:none;fill-rule:evenodd;stroke:#0000FF;stroke-width:2px;stroke-linecap:butt;stroke-linejoin:miter;stroke-opacity:1\"/>\n",
       "<path class=\"bond-9\" d=\"M 337.333,492.448 L 337.416,454.859\" style=\"fill:none;fill-rule:evenodd;stroke:#FF0000;stroke-width:2px;stroke-linecap:butt;stroke-linejoin:miter;stroke-opacity:1\"/>\n",
       "<path class=\"bond-9\" d=\"M 320.883,530.001 L 320.966,492.412\" style=\"fill:none;fill-rule:evenodd;stroke:#0000FF;stroke-width:2px;stroke-linecap:butt;stroke-linejoin:miter;stroke-opacity:1\"/>\n",
       "<path class=\"bond-9\" d=\"M 320.966,492.412 L 321.049,454.823\" style=\"fill:none;fill-rule:evenodd;stroke:#FF0000;stroke-width:2px;stroke-linecap:butt;stroke-linejoin:miter;stroke-opacity:1\"/>\n",
       "<path class=\"bond-11\" d=\"M 565.571,402.35 L 565.753,311.421\" style=\"fill:none;fill-rule:evenodd;stroke:#000000;stroke-width:2px;stroke-linecap:butt;stroke-linejoin:miter;stroke-opacity:1\"/>\n",
       "<path class=\"bond-12\" d=\"M 565.753,311.421 L 487.1,265.794\" style=\"fill:none;fill-rule:evenodd;stroke:#000000;stroke-width:2px;stroke-linecap:butt;stroke-linejoin:miter;stroke-opacity:1\"/>\n",
       "<path class=\"bond-12\" d=\"M 562.168,290.42 L 507.111,258.48\" style=\"fill:none;fill-rule:evenodd;stroke:#000000;stroke-width:2px;stroke-linecap:butt;stroke-linejoin:miter;stroke-opacity:1\"/>\n",
       "<path class=\"bond-20\" d=\"M 565.753,311.421 L 601.92,290.639\" style=\"fill:none;fill-rule:evenodd;stroke:#000000;stroke-width:2px;stroke-linecap:butt;stroke-linejoin:miter;stroke-opacity:1\"/>\n",
       "<path class=\"bond-20\" d=\"M 601.92,290.639 L 638.088,269.856\" style=\"fill:none;fill-rule:evenodd;stroke:#0000FF;stroke-width:2px;stroke-linecap:butt;stroke-linejoin:miter;stroke-opacity:1\"/>\n",
       "<path class=\"bond-13\" d=\"M 487.1,265.794 L 487.282,174.883\" style=\"fill:none;fill-rule:evenodd;stroke:#000000;stroke-width:2px;stroke-linecap:butt;stroke-linejoin:miter;stroke-opacity:1\"/>\n",
       "<path class=\"bond-14\" d=\"M 487.282,174.883 L 566.117,129.565\" style=\"fill:none;fill-rule:evenodd;stroke:#000000;stroke-width:2px;stroke-linecap:butt;stroke-linejoin:miter;stroke-opacity:1\"/>\n",
       "<path class=\"bond-14\" d=\"M 507.264,182.275 L 562.449,150.552\" style=\"fill:none;fill-rule:evenodd;stroke:#000000;stroke-width:2px;stroke-linecap:butt;stroke-linejoin:miter;stroke-opacity:1\"/>\n",
       "<path class=\"bond-15\" d=\"M 566.117,129.565 L 644.77,175.193\" style=\"fill:none;fill-rule:evenodd;stroke:#000000;stroke-width:2px;stroke-linecap:butt;stroke-linejoin:miter;stroke-opacity:1\"/>\n",
       "<path class=\"bond-16\" d=\"M 644.77,175.193 L 644.687,216.907\" style=\"fill:none;fill-rule:evenodd;stroke:#000000;stroke-width:2px;stroke-linecap:butt;stroke-linejoin:miter;stroke-opacity:1\"/>\n",
       "<path class=\"bond-16\" d=\"M 644.687,216.907 L 644.603,258.621\" style=\"fill:none;fill-rule:evenodd;stroke:#0000FF;stroke-width:2px;stroke-linecap:butt;stroke-linejoin:miter;stroke-opacity:1\"/>\n",
       "<path class=\"bond-16\" d=\"M 628.378,187.674 L 628.319,216.874\" style=\"fill:none;fill-rule:evenodd;stroke:#000000;stroke-width:2px;stroke-linecap:butt;stroke-linejoin:miter;stroke-opacity:1\"/>\n",
       "<path class=\"bond-16\" d=\"M 628.319,216.874 L 628.261,246.074\" style=\"fill:none;fill-rule:evenodd;stroke:#0000FF;stroke-width:2px;stroke-linecap:butt;stroke-linejoin:miter;stroke-opacity:1\"/>\n",
       "<path class=\"bond-17\" d=\"M 209.623,144.515 L 242.495,163.534\" style=\"fill:none;fill-rule:evenodd;stroke:#000000;stroke-width:2px;stroke-linecap:butt;stroke-linejoin:miter;stroke-opacity:1\"/>\n",
       "<path class=\"bond-17\" d=\"M 242.495,163.534 L 275.368,182.552\" style=\"fill:none;fill-rule:evenodd;stroke:#FF0000;stroke-width:2px;stroke-linecap:butt;stroke-linejoin:miter;stroke-opacity:1\"/>\n",
       "<path class=\"bond-18\" d=\"M 209.623,144.515 L 130.843,189.925\" style=\"fill:none;fill-rule:evenodd;stroke:#000000;stroke-width:2px;stroke-linecap:butt;stroke-linejoin:miter;stroke-opacity:1\"/>\n",
       "<text style=\"font-size:15px;font-style:normal;font-weight:normal;fill-opacity:1;stroke:none;font-family:sans-serif;text-anchor:start;fill:#0000FF\" x=\"319.919\" y=\"546.519\"><tspan>N</tspan><tspan style=\"baseline-shift:super;font-size:11.25px;\">+</tspan><tspan/></text>\n",
       "<text style=\"font-size:15px;font-style:normal;font-weight:normal;fill-opacity:1;stroke:none;font-family:sans-serif;text-anchor:start;fill:#FF0000\" x=\"241.71\" y=\"591.82\"><tspan>O</tspan><tspan style=\"baseline-shift:super;font-size:11.25px;\">-</tspan><tspan/></text>\n",
       "<text style=\"font-size:15px;font-style:normal;font-weight:normal;fill-opacity:1;stroke:none;font-family:sans-serif;text-anchor:start;fill:#FF0000\" x=\"322.244\" y=\"454.841\"><tspan>O</tspan></text>\n",
       "<text style=\"font-size:15px;font-style:normal;font-weight:normal;fill-opacity:1;stroke:none;font-family:sans-serif;text-anchor:start;fill:#0000FF\" x=\"638.088\" y=\"273.621\"><tspan>N</tspan></text>\n",
       "<text style=\"font-size:15px;font-style:normal;font-weight:normal;fill-opacity:1;stroke:none;font-family:sans-serif;text-anchor:start;fill:#FF0000\" x=\"274.825\" y=\"197.552\"><tspan>OH</tspan></text>\n",
       "<text style=\"font-size:15px;font-style:normal;font-weight:normal;fill-opacity:1;stroke:none;font-family:sans-serif;text-anchor:start;fill:#000000\" x=\"744.146\" y=\"447.569\"><tspan>Pd</tspan></text>\n",
       "</svg>"
      ],
      "text/plain": [
       "<IPython.core.display.SVG object>"
      ]
     },
     "execution_count": 11,
     "metadata": {},
     "output_type": "execute_result"
    }
   ],
   "source": [
    "SVG(r_svg)"
   ]
  }
 ],
 "metadata": {
  "kernelspec": {
   "display_name": "Chem",
   "language": "python",
   "name": "chem"
  },
  "language_info": {
   "codemirror_mode": {
    "name": "ipython",
    "version": 3
   },
   "file_extension": ".py",
   "mimetype": "text/x-python",
   "name": "python",
   "nbconvert_exporter": "python",
   "pygments_lexer": "ipython3",
   "version": "3.7.6"
  }
 },
 "nbformat": 4,
 "nbformat_minor": 2
}
